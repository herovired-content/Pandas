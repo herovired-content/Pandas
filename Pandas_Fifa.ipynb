{
 "cells": [
  {
   "cell_type": "code",
   "execution_count": 2,
   "id": "f1d22243",
   "metadata": {},
   "outputs": [],
   "source": [
    "import pandas as pd\n",
    "# /Users/siddharthkothotya/herovired/content/Pandas/dataset/Fifa_20/CarPrice_Assignment.csv\n",
    "# df = pd.read_csv('/Users/siddharthkothotya/herovired/content/Pandas/dataset/players_15.csv')\n"
   ]
  },
  {
   "cell_type": "code",
   "execution_count": null,
   "id": "ce080d44",
   "metadata": {},
   "outputs": [],
   "source": [
    "# df.columns\n",
    "# pd.options.display.max_columns = None"
   ]
  },
  {
   "cell_type": "code",
   "execution_count": null,
   "id": "46af2c10",
   "metadata": {},
   "outputs": [],
   "source": []
  },
  {
   "cell_type": "code",
   "execution_count": null,
   "id": "fabba556",
   "metadata": {},
   "outputs": [],
   "source": []
  }
 ],
 "metadata": {
  "kernelspec": {
   "display_name": "Python 3 (ipykernel)",
   "language": "python",
   "name": "python3"
  },
  "language_info": {
   "codemirror_mode": {
    "name": "ipython",
    "version": 3
   },
   "file_extension": ".py",
   "mimetype": "text/x-python",
   "name": "python",
   "nbconvert_exporter": "python",
   "pygments_lexer": "ipython3",
   "version": "3.7.11"
  }
 },
 "nbformat": 4,
 "nbformat_minor": 5
}
