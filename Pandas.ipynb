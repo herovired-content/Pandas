{
 "cells": [
  {
   "cell_type": "markdown",
   "id": "055dd06c",
   "metadata": {},
   "source": [
    "[![Binder](https://mybinder.org/badge_logo.svg)](https://mybinder.org/v2/gh/herovired-content/Pandas/HEAD?labpath=Pandas.ipynb)"
   ]
  },
  {
   "cell_type": "code",
   "execution_count": 252,
   "id": "822dc3aa",
   "metadata": {},
   "outputs": [],
   "source": [
    "import pandas as pd\n",
    "import numpy as np"
   ]
  },
  {
   "cell_type": "markdown",
   "id": "70285938",
   "metadata": {},
   "source": [
    "## What is a pandas dataframe\n",
    "A DataFrame is a 2-dimensional data structure that can store data of different types (including characters, integers, floating point values, categorical data and more) in columns. \n",
    "\n",
    "### What makes a Dataframe\n",
    "Let's start from the very beginning, **Numpy arrays**.\n",
    "<br>\n",
    "*Numpy* arrays can only contain one type of data at a time, if you try to mix and match, let's see what happens"
   ]
  },
  {
   "cell_type": "code",
   "execution_count": 33,
   "id": "ca587e22",
   "metadata": {},
   "outputs": [
    {
     "data": {
      "text/plain": [
       "1"
      ]
     },
     "execution_count": 33,
     "metadata": {},
     "output_type": "execute_result"
    }
   ],
   "source": [
    "# Rough Area\n",
    "a = np.array([1,2,3])\n",
    "a[0]\n",
    "\n",
    "####################\n",
    "a = np.array([1,2,3])\n",
    "a[0]\n",
    "\n",
    "####################\n",
    "b = np.array([1,2,'hi'])\n",
    "b[0]\n",
    "\n",
    "####################\n",
    "c = np.array([1,2,True])\n",
    "c[0]"
   ]
  },
  {
   "cell_type": "markdown",
   "id": "24e6af2d",
   "metadata": {},
   "source": [
    "### What is a Pandas Series\n",
    "At the very core, Pandas Series are numpy arrays internally, with some functionality added on top.\n",
    "\n",
    "Let's have a look"
   ]
  },
  {
   "cell_type": "code",
   "execution_count": 48,
   "id": "5f085245",
   "metadata": {},
   "outputs": [
    {
     "data": {
      "text/plain": [
       "0    1\n",
       "1    2\n",
       "2    3\n",
       "dtype: int64"
      ]
     },
     "execution_count": 48,
     "metadata": {},
     "output_type": "execute_result"
    }
   ],
   "source": [
    "# Rough\n",
    "pd.Series([1,2,3])"
   ]
  },
  {
   "cell_type": "code",
   "execution_count": 49,
   "id": "1febf9da",
   "metadata": {},
   "outputs": [
    {
     "data": {
      "text/plain": [
       "array([1, 2, 3])"
      ]
     },
     "execution_count": 49,
     "metadata": {},
     "output_type": "execute_result"
    }
   ],
   "source": [
    "np.array([1,2,3])"
   ]
  },
  {
   "cell_type": "markdown",
   "id": "63753121",
   "metadata": {},
   "source": [
    "## Let's stick the Pandas Series together\n",
    "If you took a couple of pandas series objects of the same length, you will end up with a pandas dataframe"
   ]
  },
  {
   "cell_type": "code",
   "execution_count": 52,
   "id": "0cc5bdc8",
   "metadata": {},
   "outputs": [],
   "source": [
    "a = pd.Series([1,2,3])\n",
    "b = pd.Series([4,5,6])"
   ]
  },
  {
   "cell_type": "code",
   "execution_count": 55,
   "id": "a09bed8f",
   "metadata": {},
   "outputs": [
    {
     "data": {
      "text/plain": [
       "pandas.core.series.Series"
      ]
     },
     "execution_count": 55,
     "metadata": {},
     "output_type": "execute_result"
    }
   ],
   "source": [
    "type(a)\n",
    "type(b)"
   ]
  },
  {
   "cell_type": "code",
   "execution_count": 61,
   "id": "b3bb5be2",
   "metadata": {},
   "outputs": [
    {
     "data": {
      "text/plain": [
       "RangeIndex(start=0, stop=3, step=1)"
      ]
     },
     "execution_count": 61,
     "metadata": {},
     "output_type": "execute_result"
    }
   ],
   "source": [
    "a.index"
   ]
  },
  {
   "cell_type": "code",
   "execution_count": 64,
   "id": "ed6091e7",
   "metadata": {},
   "outputs": [
    {
     "data": {
      "text/plain": [
       "array([1, 2, 3])"
      ]
     },
     "execution_count": 64,
     "metadata": {},
     "output_type": "execute_result"
    }
   ],
   "source": [
    "a.values"
   ]
  },
  {
   "cell_type": "code",
   "execution_count": 69,
   "id": "bbdf4c27",
   "metadata": {},
   "outputs": [
    {
     "data": {
      "text/plain": [
       "<bound method Series.to_frame of 0    1\n",
       "1    2\n",
       "2    3\n",
       "dtype: int64>"
      ]
     },
     "execution_count": 69,
     "metadata": {},
     "output_type": "execute_result"
    }
   ],
   "source": [
    "a.to_frame"
   ]
  },
  {
   "cell_type": "code",
   "execution_count": 71,
   "id": "14c51d49",
   "metadata": {},
   "outputs": [],
   "source": [
    "df = pd.DataFrame({'a':a.values,'b':b.values})"
   ]
  },
  {
   "cell_type": "code",
   "execution_count": 74,
   "id": "e6e4c031",
   "metadata": {},
   "outputs": [
    {
     "data": {
      "text/html": [
       "<div>\n",
       "<style scoped>\n",
       "    .dataframe tbody tr th:only-of-type {\n",
       "        vertical-align: middle;\n",
       "    }\n",
       "\n",
       "    .dataframe tbody tr th {\n",
       "        vertical-align: top;\n",
       "    }\n",
       "\n",
       "    .dataframe thead th {\n",
       "        text-align: right;\n",
       "    }\n",
       "</style>\n",
       "<table border=\"1\" class=\"dataframe\">\n",
       "  <thead>\n",
       "    <tr style=\"text-align: right;\">\n",
       "      <th></th>\n",
       "      <th>a</th>\n",
       "      <th>b</th>\n",
       "    </tr>\n",
       "  </thead>\n",
       "  <tbody>\n",
       "    <tr>\n",
       "      <th>0</th>\n",
       "      <td>1</td>\n",
       "      <td>4</td>\n",
       "    </tr>\n",
       "    <tr>\n",
       "      <th>1</th>\n",
       "      <td>2</td>\n",
       "      <td>5</td>\n",
       "    </tr>\n",
       "    <tr>\n",
       "      <th>2</th>\n",
       "      <td>3</td>\n",
       "      <td>6</td>\n",
       "    </tr>\n",
       "  </tbody>\n",
       "</table>\n",
       "</div>"
      ],
      "text/plain": [
       "   a  b\n",
       "0  1  4\n",
       "1  2  5\n",
       "2  3  6"
      ]
     },
     "execution_count": 74,
     "metadata": {},
     "output_type": "execute_result"
    }
   ],
   "source": [
    "df"
   ]
  },
  {
   "cell_type": "code",
   "execution_count": 76,
   "id": "50f79ba6",
   "metadata": {},
   "outputs": [
    {
     "data": {
      "text/plain": [
       "pandas.core.frame.DataFrame"
      ]
     },
     "execution_count": 76,
     "metadata": {},
     "output_type": "execute_result"
    }
   ],
   "source": [
    "type(df)"
   ]
  },
  {
   "cell_type": "code",
   "execution_count": 78,
   "id": "fad284b7",
   "metadata": {},
   "outputs": [
    {
     "data": {
      "text/plain": [
       "pandas.core.series.Series"
      ]
     },
     "execution_count": 78,
     "metadata": {},
     "output_type": "execute_result"
    }
   ],
   "source": [
    "type(df['a'])"
   ]
  },
  {
   "cell_type": "code",
   "execution_count": 83,
   "id": "dd4d0706",
   "metadata": {},
   "outputs": [
    {
     "data": {
      "text/plain": [
       "pandas.core.frame.DataFrame"
      ]
     },
     "execution_count": 83,
     "metadata": {},
     "output_type": "execute_result"
    }
   ],
   "source": [
    "# Pay attention here\n",
    "type(df[['a']])"
   ]
  },
  {
   "cell_type": "markdown",
   "id": "e7493bfe",
   "metadata": {},
   "source": [
    "## Reading data with pandas\n",
    "1. Reading with a csv\n",
    "2. Reading from a dictionary\n",
    "\n"
   ]
  },
  {
   "cell_type": "markdown",
   "id": "48813fe6",
   "metadata": {},
   "source": [
    "### Reading with a csv"
   ]
  },
  {
   "cell_type": "code",
   "execution_count": 187,
   "id": "3b6afe61",
   "metadata": {},
   "outputs": [],
   "source": [
    "df = pd.read_csv('dataset/CarPrice_Assignment_train_unclean.csv')\n",
    "# Datasets/Carprice/orignal/CarPrice_train_test/CarPrice_Assignment_train_unclean.csv"
   ]
  },
  {
   "cell_type": "code",
   "execution_count": 188,
   "id": "a5ce417b",
   "metadata": {},
   "outputs": [
    {
     "data": {
      "text/html": [
       "<div>\n",
       "<style scoped>\n",
       "    .dataframe tbody tr th:only-of-type {\n",
       "        vertical-align: middle;\n",
       "    }\n",
       "\n",
       "    .dataframe tbody tr th {\n",
       "        vertical-align: top;\n",
       "    }\n",
       "\n",
       "    .dataframe thead th {\n",
       "        text-align: right;\n",
       "    }\n",
       "</style>\n",
       "<table border=\"1\" class=\"dataframe\">\n",
       "  <thead>\n",
       "    <tr style=\"text-align: right;\">\n",
       "      <th></th>\n",
       "      <th>symboling</th>\n",
       "      <th>CarName</th>\n",
       "      <th>fueltype</th>\n",
       "      <th>aspiration</th>\n",
       "      <th>doornumber</th>\n",
       "      <th>carbody</th>\n",
       "      <th>drivewheel</th>\n",
       "      <th>enginelocation</th>\n",
       "      <th>wheelbase</th>\n",
       "      <th>carlength</th>\n",
       "      <th>...</th>\n",
       "      <th>enginesize</th>\n",
       "      <th>fuelsystem</th>\n",
       "      <th>boreratio</th>\n",
       "      <th>stroke</th>\n",
       "      <th>compressionratio</th>\n",
       "      <th>horsepower</th>\n",
       "      <th>peakrpm</th>\n",
       "      <th>citympg</th>\n",
       "      <th>highwaympg</th>\n",
       "      <th>price</th>\n",
       "    </tr>\n",
       "  </thead>\n",
       "  <tbody>\n",
       "    <tr>\n",
       "      <th>0</th>\n",
       "      <td>2</td>\n",
       "      <td>audi 100 ls</td>\n",
       "      <td>gas</td>\n",
       "      <td>std</td>\n",
       "      <td>four</td>\n",
       "      <td>sedan</td>\n",
       "      <td>fwd</td>\n",
       "      <td>front</td>\n",
       "      <td>99.8</td>\n",
       "      <td>176.6</td>\n",
       "      <td>...</td>\n",
       "      <td>109</td>\n",
       "      <td>mpfi</td>\n",
       "      <td>3.19</td>\n",
       "      <td>3.40</td>\n",
       "      <td>10.0</td>\n",
       "      <td>102</td>\n",
       "      <td>5500.0</td>\n",
       "      <td>24.0</td>\n",
       "      <td>30.0</td>\n",
       "      <td>13950.0</td>\n",
       "    </tr>\n",
       "    <tr>\n",
       "      <th>1</th>\n",
       "      <td>0</td>\n",
       "      <td>peugeot 504</td>\n",
       "      <td>gas</td>\n",
       "      <td>std</td>\n",
       "      <td>four</td>\n",
       "      <td>wagon</td>\n",
       "      <td>rwd</td>\n",
       "      <td>front</td>\n",
       "      <td>114.2</td>\n",
       "      <td>198.9</td>\n",
       "      <td>...</td>\n",
       "      <td>120</td>\n",
       "      <td>mpfi</td>\n",
       "      <td>3.46</td>\n",
       "      <td>2.19</td>\n",
       "      <td>8.4</td>\n",
       "      <td>95</td>\n",
       "      <td>5000.0</td>\n",
       "      <td>19.0</td>\n",
       "      <td>24.0</td>\n",
       "      <td>16695.0</td>\n",
       "    </tr>\n",
       "    <tr>\n",
       "      <th>2</th>\n",
       "      <td>3</td>\n",
       "      <td>mitsubishi outlander</td>\n",
       "      <td>gas</td>\n",
       "      <td>turbo</td>\n",
       "      <td>two</td>\n",
       "      <td>hatchback</td>\n",
       "      <td>fwd</td>\n",
       "      <td>front</td>\n",
       "      <td>95.9</td>\n",
       "      <td>173.2</td>\n",
       "      <td>...</td>\n",
       "      <td>156</td>\n",
       "      <td>spdi</td>\n",
       "      <td>3.58</td>\n",
       "      <td>3.86</td>\n",
       "      <td>7.0</td>\n",
       "      <td>145</td>\n",
       "      <td>5000.0</td>\n",
       "      <td>19.0</td>\n",
       "      <td>24.0</td>\n",
       "      <td>12629.0</td>\n",
       "    </tr>\n",
       "    <tr>\n",
       "      <th>3</th>\n",
       "      <td>1</td>\n",
       "      <td>toyota corona</td>\n",
       "      <td>gas</td>\n",
       "      <td>std</td>\n",
       "      <td>two</td>\n",
       "      <td>hatchback</td>\n",
       "      <td>fwd</td>\n",
       "      <td>front</td>\n",
       "      <td>95.7</td>\n",
       "      <td>158.7</td>\n",
       "      <td>...</td>\n",
       "      <td>92</td>\n",
       "      <td>2bbl</td>\n",
       "      <td>3.05</td>\n",
       "      <td>3.03</td>\n",
       "      <td>9.0</td>\n",
       "      <td>62</td>\n",
       "      <td>4800.0</td>\n",
       "      <td>31.0</td>\n",
       "      <td>38.0</td>\n",
       "      <td>6338.0</td>\n",
       "    </tr>\n",
       "    <tr>\n",
       "      <th>4</th>\n",
       "      <td>2</td>\n",
       "      <td>toyota cressida</td>\n",
       "      <td>gas</td>\n",
       "      <td>std</td>\n",
       "      <td>two</td>\n",
       "      <td>convertible</td>\n",
       "      <td>rwd</td>\n",
       "      <td>front</td>\n",
       "      <td>98.4</td>\n",
       "      <td>176.2</td>\n",
       "      <td>...</td>\n",
       "      <td>146</td>\n",
       "      <td>mpfi</td>\n",
       "      <td>3.62</td>\n",
       "      <td>3.50</td>\n",
       "      <td>9.3</td>\n",
       "      <td>116</td>\n",
       "      <td>NaN</td>\n",
       "      <td>24.0</td>\n",
       "      <td>30.0</td>\n",
       "      <td>17669.0</td>\n",
       "    </tr>\n",
       "  </tbody>\n",
       "</table>\n",
       "<p>5 rows × 25 columns</p>\n",
       "</div>"
      ],
      "text/plain": [
       "   symboling               CarName fueltype aspiration doornumber  \\\n",
       "0          2           audi 100 ls      gas        std       four   \n",
       "1          0           peugeot 504      gas        std       four   \n",
       "2          3  mitsubishi outlander      gas      turbo        two   \n",
       "3          1         toyota corona      gas        std        two   \n",
       "4          2       toyota cressida      gas        std        two   \n",
       "\n",
       "       carbody drivewheel enginelocation  wheelbase  carlength  ...  \\\n",
       "0        sedan        fwd          front       99.8      176.6  ...   \n",
       "1        wagon        rwd          front      114.2      198.9  ...   \n",
       "2    hatchback        fwd          front       95.9      173.2  ...   \n",
       "3    hatchback        fwd          front       95.7      158.7  ...   \n",
       "4  convertible        rwd          front       98.4      176.2  ...   \n",
       "\n",
       "   enginesize  fuelsystem  boreratio stroke compressionratio  horsepower  \\\n",
       "0         109        mpfi       3.19   3.40             10.0         102   \n",
       "1         120        mpfi       3.46   2.19              8.4          95   \n",
       "2         156        spdi       3.58   3.86              7.0         145   \n",
       "3          92        2bbl       3.05   3.03              9.0          62   \n",
       "4         146        mpfi       3.62   3.50              9.3         116   \n",
       "\n",
       "  peakrpm  citympg  highwaympg    price  \n",
       "0  5500.0     24.0        30.0  13950.0  \n",
       "1  5000.0     19.0        24.0  16695.0  \n",
       "2  5000.0     19.0        24.0  12629.0  \n",
       "3  4800.0     31.0        38.0   6338.0  \n",
       "4     NaN     24.0        30.0  17669.0  \n",
       "\n",
       "[5 rows x 25 columns]"
      ]
     },
     "execution_count": 188,
     "metadata": {},
     "output_type": "execute_result"
    }
   ],
   "source": [
    "df.head()"
   ]
  },
  {
   "cell_type": "markdown",
   "id": "31214d61",
   "metadata": {},
   "source": [
    "### A Pandas DataFrame is made up of Pandas Series stacked together\n",
    "<img src=\"images/pandas_dataframe.png\" alt=\"Picture\" width=\"400\"/>\n",
    "\n",
    "With every row and column indexed, starting from 0\n",
    "\n",
    "<img src=\"images/series.png\" alt=\"Picture\" width=\"400\"/>\n"
   ]
  },
  {
   "cell_type": "code",
   "execution_count": 189,
   "id": "a4847ee0",
   "metadata": {},
   "outputs": [
    {
     "data": {
      "text/plain": [
       "86.6"
      ]
     },
     "execution_count": 189,
     "metadata": {},
     "output_type": "execute_result"
    }
   ],
   "source": [
    "df['wheelbase'].max()\n",
    "df['wheelbase'].min()"
   ]
  },
  {
   "cell_type": "markdown",
   "id": "99b0ee34",
   "metadata": {},
   "source": [
    "### Some basic statistics of the numerical data of my data"
   ]
  },
  {
   "cell_type": "code",
   "execution_count": 190,
   "id": "e99db19b",
   "metadata": {},
   "outputs": [
    {
     "data": {
      "text/html": [
       "<div>\n",
       "<style scoped>\n",
       "    .dataframe tbody tr th:only-of-type {\n",
       "        vertical-align: middle;\n",
       "    }\n",
       "\n",
       "    .dataframe tbody tr th {\n",
       "        vertical-align: top;\n",
       "    }\n",
       "\n",
       "    .dataframe thead th {\n",
       "        text-align: right;\n",
       "    }\n",
       "</style>\n",
       "<table border=\"1\" class=\"dataframe\">\n",
       "  <thead>\n",
       "    <tr style=\"text-align: right;\">\n",
       "      <th></th>\n",
       "      <th>symboling</th>\n",
       "      <th>wheelbase</th>\n",
       "      <th>carlength</th>\n",
       "      <th>carwidth</th>\n",
       "      <th>carheight</th>\n",
       "      <th>curbweight</th>\n",
       "      <th>enginesize</th>\n",
       "      <th>boreratio</th>\n",
       "      <th>stroke</th>\n",
       "      <th>compressionratio</th>\n",
       "      <th>horsepower</th>\n",
       "      <th>peakrpm</th>\n",
       "      <th>citympg</th>\n",
       "      <th>highwaympg</th>\n",
       "      <th>price</th>\n",
       "    </tr>\n",
       "  </thead>\n",
       "  <tbody>\n",
       "    <tr>\n",
       "      <th>count</th>\n",
       "      <td>153.000000</td>\n",
       "      <td>151.000000</td>\n",
       "      <td>150.000000</td>\n",
       "      <td>149.000000</td>\n",
       "      <td>151.000000</td>\n",
       "      <td>152.000000</td>\n",
       "      <td>153.000000</td>\n",
       "      <td>151.000000</td>\n",
       "      <td>150.000000</td>\n",
       "      <td>151.000000</td>\n",
       "      <td>153.000000</td>\n",
       "      <td>146.000000</td>\n",
       "      <td>150.000000</td>\n",
       "      <td>150.000000</td>\n",
       "      <td>153.000000</td>\n",
       "    </tr>\n",
       "    <tr>\n",
       "      <th>mean</th>\n",
       "      <td>0.790850</td>\n",
       "      <td>98.970199</td>\n",
       "      <td>174.342667</td>\n",
       "      <td>65.997987</td>\n",
       "      <td>53.774172</td>\n",
       "      <td>2574.019737</td>\n",
       "      <td>127.647059</td>\n",
       "      <td>3.342185</td>\n",
       "      <td>3.267167</td>\n",
       "      <td>10.217351</td>\n",
       "      <td>102.888889</td>\n",
       "      <td>5096.232877</td>\n",
       "      <td>25.360000</td>\n",
       "      <td>30.960000</td>\n",
       "      <td>13364.157954</td>\n",
       "    </tr>\n",
       "    <tr>\n",
       "      <th>std</th>\n",
       "      <td>1.259979</td>\n",
       "      <td>6.384991</td>\n",
       "      <td>12.971747</td>\n",
       "      <td>2.077826</td>\n",
       "      <td>2.493791</td>\n",
       "      <td>541.390991</td>\n",
       "      <td>42.015265</td>\n",
       "      <td>0.266828</td>\n",
       "      <td>0.310188</td>\n",
       "      <td>4.110621</td>\n",
       "      <td>37.950895</td>\n",
       "      <td>456.186804</td>\n",
       "      <td>6.794471</td>\n",
       "      <td>7.259227</td>\n",
       "      <td>8302.558158</td>\n",
       "    </tr>\n",
       "    <tr>\n",
       "      <th>min</th>\n",
       "      <td>-2.000000</td>\n",
       "      <td>86.600000</td>\n",
       "      <td>141.100000</td>\n",
       "      <td>60.300000</td>\n",
       "      <td>48.800000</td>\n",
       "      <td>1488.000000</td>\n",
       "      <td>61.000000</td>\n",
       "      <td>2.910000</td>\n",
       "      <td>2.190000</td>\n",
       "      <td>7.000000</td>\n",
       "      <td>48.000000</td>\n",
       "      <td>4150.000000</td>\n",
       "      <td>14.000000</td>\n",
       "      <td>16.000000</td>\n",
       "      <td>5118.000000</td>\n",
       "    </tr>\n",
       "    <tr>\n",
       "      <th>25%</th>\n",
       "      <td>0.000000</td>\n",
       "      <td>94.500000</td>\n",
       "      <td>166.925000</td>\n",
       "      <td>64.200000</td>\n",
       "      <td>52.000000</td>\n",
       "      <td>2143.750000</td>\n",
       "      <td>97.000000</td>\n",
       "      <td>3.140000</td>\n",
       "      <td>3.127500</td>\n",
       "      <td>8.500000</td>\n",
       "      <td>70.000000</td>\n",
       "      <td>4800.000000</td>\n",
       "      <td>19.000000</td>\n",
       "      <td>25.000000</td>\n",
       "      <td>7775.000000</td>\n",
       "    </tr>\n",
       "    <tr>\n",
       "      <th>50%</th>\n",
       "      <td>1.000000</td>\n",
       "      <td>97.000000</td>\n",
       "      <td>173.200000</td>\n",
       "      <td>65.600000</td>\n",
       "      <td>54.100000</td>\n",
       "      <td>2434.000000</td>\n",
       "      <td>120.000000</td>\n",
       "      <td>3.350000</td>\n",
       "      <td>3.290000</td>\n",
       "      <td>9.000000</td>\n",
       "      <td>95.000000</td>\n",
       "      <td>5100.000000</td>\n",
       "      <td>25.000000</td>\n",
       "      <td>31.000000</td>\n",
       "      <td>10698.000000</td>\n",
       "    </tr>\n",
       "    <tr>\n",
       "      <th>75%</th>\n",
       "      <td>2.000000</td>\n",
       "      <td>102.800000</td>\n",
       "      <td>184.600000</td>\n",
       "      <td>67.200000</td>\n",
       "      <td>55.700000</td>\n",
       "      <td>3036.000000</td>\n",
       "      <td>145.000000</td>\n",
       "      <td>3.595000</td>\n",
       "      <td>3.410000</td>\n",
       "      <td>9.405000</td>\n",
       "      <td>116.000000</td>\n",
       "      <td>5400.000000</td>\n",
       "      <td>30.000000</td>\n",
       "      <td>36.000000</td>\n",
       "      <td>16500.000000</td>\n",
       "    </tr>\n",
       "    <tr>\n",
       "      <th>max</th>\n",
       "      <td>3.000000</td>\n",
       "      <td>120.900000</td>\n",
       "      <td>208.100000</td>\n",
       "      <td>72.000000</td>\n",
       "      <td>59.800000</td>\n",
       "      <td>4066.000000</td>\n",
       "      <td>308.000000</td>\n",
       "      <td>3.940000</td>\n",
       "      <td>4.170000</td>\n",
       "      <td>23.000000</td>\n",
       "      <td>207.000000</td>\n",
       "      <td>6000.000000</td>\n",
       "      <td>49.000000</td>\n",
       "      <td>54.000000</td>\n",
       "      <td>45400.000000</td>\n",
       "    </tr>\n",
       "  </tbody>\n",
       "</table>\n",
       "</div>"
      ],
      "text/plain": [
       "        symboling   wheelbase   carlength    carwidth   carheight  \\\n",
       "count  153.000000  151.000000  150.000000  149.000000  151.000000   \n",
       "mean     0.790850   98.970199  174.342667   65.997987   53.774172   \n",
       "std      1.259979    6.384991   12.971747    2.077826    2.493791   \n",
       "min     -2.000000   86.600000  141.100000   60.300000   48.800000   \n",
       "25%      0.000000   94.500000  166.925000   64.200000   52.000000   \n",
       "50%      1.000000   97.000000  173.200000   65.600000   54.100000   \n",
       "75%      2.000000  102.800000  184.600000   67.200000   55.700000   \n",
       "max      3.000000  120.900000  208.100000   72.000000   59.800000   \n",
       "\n",
       "        curbweight  enginesize   boreratio      stroke  compressionratio  \\\n",
       "count   152.000000  153.000000  151.000000  150.000000        151.000000   \n",
       "mean   2574.019737  127.647059    3.342185    3.267167         10.217351   \n",
       "std     541.390991   42.015265    0.266828    0.310188          4.110621   \n",
       "min    1488.000000   61.000000    2.910000    2.190000          7.000000   \n",
       "25%    2143.750000   97.000000    3.140000    3.127500          8.500000   \n",
       "50%    2434.000000  120.000000    3.350000    3.290000          9.000000   \n",
       "75%    3036.000000  145.000000    3.595000    3.410000          9.405000   \n",
       "max    4066.000000  308.000000    3.940000    4.170000         23.000000   \n",
       "\n",
       "       horsepower      peakrpm     citympg  highwaympg         price  \n",
       "count  153.000000   146.000000  150.000000  150.000000    153.000000  \n",
       "mean   102.888889  5096.232877   25.360000   30.960000  13364.157954  \n",
       "std     37.950895   456.186804    6.794471    7.259227   8302.558158  \n",
       "min     48.000000  4150.000000   14.000000   16.000000   5118.000000  \n",
       "25%     70.000000  4800.000000   19.000000   25.000000   7775.000000  \n",
       "50%     95.000000  5100.000000   25.000000   31.000000  10698.000000  \n",
       "75%    116.000000  5400.000000   30.000000   36.000000  16500.000000  \n",
       "max    207.000000  6000.000000   49.000000   54.000000  45400.000000  "
      ]
     },
     "execution_count": 190,
     "metadata": {},
     "output_type": "execute_result"
    }
   ],
   "source": [
    "df.describe()"
   ]
  },
  {
   "cell_type": "markdown",
   "id": "86c09d29",
   "metadata": {},
   "source": [
    "## Reading/Writing\n",
    "\n",
    "<img src=\"images/read_write_tabular_data.png\" alt=\"Picture\" width=\"800\"/>\n",
    "\n",
    "Pandas DataFrame. pandas supports many different file formats or data sources out of the box (csv, excel, sql, json, parquet, …), each of them with the prefix read_*."
   ]
  },
  {
   "cell_type": "code",
   "execution_count": 191,
   "id": "3c6b1d8b",
   "metadata": {},
   "outputs": [
    {
     "data": {
      "text/html": [
       "<div>\n",
       "<style scoped>\n",
       "    .dataframe tbody tr th:only-of-type {\n",
       "        vertical-align: middle;\n",
       "    }\n",
       "\n",
       "    .dataframe tbody tr th {\n",
       "        vertical-align: top;\n",
       "    }\n",
       "\n",
       "    .dataframe thead th {\n",
       "        text-align: right;\n",
       "    }\n",
       "</style>\n",
       "<table border=\"1\" class=\"dataframe\">\n",
       "  <thead>\n",
       "    <tr style=\"text-align: right;\">\n",
       "      <th></th>\n",
       "      <th>symboling</th>\n",
       "      <th>CarName</th>\n",
       "      <th>fueltype</th>\n",
       "      <th>aspiration</th>\n",
       "      <th>doornumber</th>\n",
       "      <th>carbody</th>\n",
       "      <th>drivewheel</th>\n",
       "      <th>enginelocation</th>\n",
       "      <th>wheelbase</th>\n",
       "      <th>carlength</th>\n",
       "      <th>...</th>\n",
       "      <th>enginesize</th>\n",
       "      <th>fuelsystem</th>\n",
       "      <th>boreratio</th>\n",
       "      <th>stroke</th>\n",
       "      <th>compressionratio</th>\n",
       "      <th>horsepower</th>\n",
       "      <th>peakrpm</th>\n",
       "      <th>citympg</th>\n",
       "      <th>highwaympg</th>\n",
       "      <th>price</th>\n",
       "    </tr>\n",
       "  </thead>\n",
       "  <tbody>\n",
       "    <tr>\n",
       "      <th>150</th>\n",
       "      <td>0</td>\n",
       "      <td>volkswagen rabbit custom</td>\n",
       "      <td>diesel</td>\n",
       "      <td>turbo</td>\n",
       "      <td>four</td>\n",
       "      <td>sedan</td>\n",
       "      <td>fwd</td>\n",
       "      <td>front</td>\n",
       "      <td>100.4</td>\n",
       "      <td>180.2</td>\n",
       "      <td>...</td>\n",
       "      <td>97</td>\n",
       "      <td>idi</td>\n",
       "      <td>3.01</td>\n",
       "      <td>3.40</td>\n",
       "      <td>23.0</td>\n",
       "      <td>68</td>\n",
       "      <td>4500.0</td>\n",
       "      <td>33.0</td>\n",
       "      <td>38.0</td>\n",
       "      <td>13845.0</td>\n",
       "    </tr>\n",
       "    <tr>\n",
       "      <th>151</th>\n",
       "      <td>2</td>\n",
       "      <td>toyota corolla</td>\n",
       "      <td>gas</td>\n",
       "      <td>std</td>\n",
       "      <td>two</td>\n",
       "      <td>hatchback</td>\n",
       "      <td>rwd</td>\n",
       "      <td>front</td>\n",
       "      <td>98.4</td>\n",
       "      <td>176.2</td>\n",
       "      <td>...</td>\n",
       "      <td>146</td>\n",
       "      <td>mpfi</td>\n",
       "      <td>3.62</td>\n",
       "      <td>3.50</td>\n",
       "      <td>9.3</td>\n",
       "      <td>116</td>\n",
       "      <td>4800.0</td>\n",
       "      <td>24.0</td>\n",
       "      <td>30.0</td>\n",
       "      <td>11549.0</td>\n",
       "    </tr>\n",
       "    <tr>\n",
       "      <th>152</th>\n",
       "      <td>0</td>\n",
       "      <td>mazda rx-7 gs</td>\n",
       "      <td>diesel</td>\n",
       "      <td>std</td>\n",
       "      <td>four</td>\n",
       "      <td>sedan</td>\n",
       "      <td>rwd</td>\n",
       "      <td>front</td>\n",
       "      <td>104.9</td>\n",
       "      <td>175.0</td>\n",
       "      <td>...</td>\n",
       "      <td>134</td>\n",
       "      <td>idi</td>\n",
       "      <td>3.43</td>\n",
       "      <td>3.64</td>\n",
       "      <td>22.0</td>\n",
       "      <td>72</td>\n",
       "      <td>4200.0</td>\n",
       "      <td>31.0</td>\n",
       "      <td>39.0</td>\n",
       "      <td>18344.0</td>\n",
       "    </tr>\n",
       "  </tbody>\n",
       "</table>\n",
       "<p>3 rows × 25 columns</p>\n",
       "</div>"
      ],
      "text/plain": [
       "     symboling                   CarName fueltype aspiration doornumber  \\\n",
       "150          0  volkswagen rabbit custom   diesel      turbo       four   \n",
       "151          2            toyota corolla      gas        std        two   \n",
       "152          0             mazda rx-7 gs   diesel        std       four   \n",
       "\n",
       "       carbody drivewheel enginelocation  wheelbase  carlength  ...  \\\n",
       "150      sedan        fwd          front      100.4      180.2  ...   \n",
       "151  hatchback        rwd          front       98.4      176.2  ...   \n",
       "152      sedan        rwd          front      104.9      175.0  ...   \n",
       "\n",
       "     enginesize  fuelsystem  boreratio stroke compressionratio  horsepower  \\\n",
       "150          97         idi       3.01   3.40             23.0          68   \n",
       "151         146        mpfi       3.62   3.50              9.3         116   \n",
       "152         134         idi       3.43   3.64             22.0          72   \n",
       "\n",
       "    peakrpm  citympg  highwaympg    price  \n",
       "150  4500.0     33.0        38.0  13845.0  \n",
       "151  4800.0     24.0        30.0  11549.0  \n",
       "152  4200.0     31.0        39.0  18344.0  \n",
       "\n",
       "[3 rows x 25 columns]"
      ]
     },
     "execution_count": 191,
     "metadata": {},
     "output_type": "execute_result"
    }
   ],
   "source": [
    "# Viewing the heads and tails of the data\n",
    "df.head()\n",
    "df.head(10)\n",
    "df.tail()\n",
    "df.tail(3)"
   ]
  },
  {
   "cell_type": "code",
   "execution_count": 192,
   "id": "62453880",
   "metadata": {},
   "outputs": [
    {
     "data": {
      "text/plain": [
       "symboling             int64\n",
       "CarName              object\n",
       "fueltype             object\n",
       "aspiration           object\n",
       "doornumber           object\n",
       "carbody              object\n",
       "drivewheel           object\n",
       "enginelocation       object\n",
       "wheelbase           float64\n",
       "carlength           float64\n",
       "carwidth            float64\n",
       "carheight           float64\n",
       "curbweight          float64\n",
       "enginetype           object\n",
       "cylindernumber       object\n",
       "enginesize            int64\n",
       "fuelsystem           object\n",
       "boreratio           float64\n",
       "stroke              float64\n",
       "compressionratio    float64\n",
       "horsepower            int64\n",
       "peakrpm             float64\n",
       "citympg             float64\n",
       "highwaympg          float64\n",
       "price               float64\n",
       "dtype: object"
      ]
     },
     "execution_count": 192,
     "metadata": {},
     "output_type": "execute_result"
    }
   ],
   "source": [
    "# A check on how pandas interpreted each of the column data types can be done by requesting the pandas dtypes attribute:\n",
    "df.dtypes"
   ]
  },
  {
   "cell_type": "markdown",
   "id": "a63098f7",
   "metadata": {},
   "source": [
    "### Saving to a xlsx"
   ]
  },
  {
   "cell_type": "code",
   "execution_count": 193,
   "id": "cf03e408",
   "metadata": {},
   "outputs": [],
   "source": [
    "df.to_excel(\"carprice.xlsx\", sheet_name=\"orignal_sheet\", index=False)"
   ]
  },
  {
   "cell_type": "code",
   "execution_count": 194,
   "id": "3d5d6587",
   "metadata": {},
   "outputs": [
    {
     "name": "stdout",
     "output_type": "stream",
     "text": [
      "<class 'pandas.core.frame.DataFrame'>\n",
      "RangeIndex: 153 entries, 0 to 152\n",
      "Data columns (total 25 columns):\n",
      " #   Column            Non-Null Count  Dtype  \n",
      "---  ------            --------------  -----  \n",
      " 0   symboling         153 non-null    int64  \n",
      " 1   CarName           153 non-null    object \n",
      " 2   fueltype          150 non-null    object \n",
      " 3   aspiration        151 non-null    object \n",
      " 4   doornumber        152 non-null    object \n",
      " 5   carbody           153 non-null    object \n",
      " 6   drivewheel        153 non-null    object \n",
      " 7   enginelocation    142 non-null    object \n",
      " 8   wheelbase         151 non-null    float64\n",
      " 9   carlength         150 non-null    float64\n",
      " 10  carwidth          149 non-null    float64\n",
      " 11  carheight         151 non-null    float64\n",
      " 12  curbweight        152 non-null    float64\n",
      " 13  enginetype        153 non-null    object \n",
      " 14  cylindernumber    152 non-null    object \n",
      " 15  enginesize        153 non-null    int64  \n",
      " 16  fuelsystem        153 non-null    object \n",
      " 17  boreratio         151 non-null    float64\n",
      " 18  stroke            150 non-null    float64\n",
      " 19  compressionratio  151 non-null    float64\n",
      " 20  horsepower        153 non-null    int64  \n",
      " 21  peakrpm           146 non-null    float64\n",
      " 22  citympg           150 non-null    float64\n",
      " 23  highwaympg        150 non-null    float64\n",
      " 24  price             153 non-null    float64\n",
      "dtypes: float64(12), int64(3), object(10)\n",
      "memory usage: 30.0+ KB\n"
     ]
    }
   ],
   "source": [
    "# Technical summary of a DataFrame\n",
    "df.info()"
   ]
  },
  {
   "cell_type": "markdown",
   "id": "ada54f1a",
   "metadata": {},
   "source": [
    "### Selecting subsets of the DataFrame\n",
    "<img src=\"images/columns.png\" alt=\"Picture\" width=\"600\"/>\n",
    "\n",
    "<img src=\"images/rows.png\" alt=\"Picture\" width=\"600\"/>\n",
    "\n",
    "<img src=\"images/columns_rows.png\" alt=\"Picture\" width=\"600\"/>\n",
    "\n",
    "There are mainly 2 ways to do this.\n",
    "- loc\n",
    "- iloc\n",
    "\n",
    "**'iloc'** is where, you select by indexes of rows and columns\n",
    "\n",
    "Let's see some examples"
   ]
  },
  {
   "cell_type": "code",
   "execution_count": 195,
   "id": "8876cb20",
   "metadata": {},
   "outputs": [
    {
     "data": {
      "text/plain": [
       "2"
      ]
     },
     "execution_count": 195,
     "metadata": {},
     "output_type": "execute_result"
    }
   ],
   "source": [
    "df.iloc[0,0]"
   ]
  },
  {
   "cell_type": "code",
   "execution_count": 196,
   "id": "15bcbb5c",
   "metadata": {},
   "outputs": [
    {
     "data": {
      "text/plain": [
       "67.2"
      ]
     },
     "execution_count": 196,
     "metadata": {},
     "output_type": "execute_result"
    }
   ],
   "source": [
    "df.iloc[10,10]"
   ]
  },
  {
   "cell_type": "code",
   "execution_count": 197,
   "id": "6a99ba0f",
   "metadata": {},
   "outputs": [
    {
     "data": {
      "text/plain": [
       "0             audi 100 ls\n",
       "1             peugeot 504\n",
       "2    mitsubishi outlander\n",
       "3           toyota corona\n",
       "4         toyota cressida\n",
       "Name: CarName, dtype: object"
      ]
     },
     "execution_count": 197,
     "metadata": {},
     "output_type": "execute_result"
    }
   ],
   "source": [
    "df.iloc[:5,1]"
   ]
  },
  {
   "cell_type": "code",
   "execution_count": 198,
   "id": "179b1e1a",
   "metadata": {},
   "outputs": [
    {
     "data": {
      "text/html": [
       "<div>\n",
       "<style scoped>\n",
       "    .dataframe tbody tr th:only-of-type {\n",
       "        vertical-align: middle;\n",
       "    }\n",
       "\n",
       "    .dataframe tbody tr th {\n",
       "        vertical-align: top;\n",
       "    }\n",
       "\n",
       "    .dataframe thead th {\n",
       "        text-align: right;\n",
       "    }\n",
       "</style>\n",
       "<table border=\"1\" class=\"dataframe\">\n",
       "  <thead>\n",
       "    <tr style=\"text-align: right;\">\n",
       "      <th></th>\n",
       "      <th>symboling</th>\n",
       "      <th>CarName</th>\n",
       "    </tr>\n",
       "  </thead>\n",
       "  <tbody>\n",
       "    <tr>\n",
       "      <th>0</th>\n",
       "      <td>2</td>\n",
       "      <td>audi 100 ls</td>\n",
       "    </tr>\n",
       "    <tr>\n",
       "      <th>1</th>\n",
       "      <td>0</td>\n",
       "      <td>peugeot 504</td>\n",
       "    </tr>\n",
       "    <tr>\n",
       "      <th>2</th>\n",
       "      <td>3</td>\n",
       "      <td>mitsubishi outlander</td>\n",
       "    </tr>\n",
       "    <tr>\n",
       "      <th>3</th>\n",
       "      <td>1</td>\n",
       "      <td>toyota corona</td>\n",
       "    </tr>\n",
       "    <tr>\n",
       "      <th>4</th>\n",
       "      <td>2</td>\n",
       "      <td>toyota cressida</td>\n",
       "    </tr>\n",
       "    <tr>\n",
       "      <th>5</th>\n",
       "      <td>0</td>\n",
       "      <td>peugeot 604sl</td>\n",
       "    </tr>\n",
       "    <tr>\n",
       "      <th>6</th>\n",
       "      <td>0</td>\n",
       "      <td>subaru baja</td>\n",
       "    </tr>\n",
       "    <tr>\n",
       "      <th>7</th>\n",
       "      <td>3</td>\n",
       "      <td>porsche boxter</td>\n",
       "    </tr>\n",
       "    <tr>\n",
       "      <th>8</th>\n",
       "      <td>-1</td>\n",
       "      <td>volvo 264gl</td>\n",
       "    </tr>\n",
       "    <tr>\n",
       "      <th>9</th>\n",
       "      <td>0</td>\n",
       "      <td>toyota corolla</td>\n",
       "    </tr>\n",
       "  </tbody>\n",
       "</table>\n",
       "</div>"
      ],
      "text/plain": [
       "   symboling               CarName\n",
       "0          2           audi 100 ls\n",
       "1          0           peugeot 504\n",
       "2          3  mitsubishi outlander\n",
       "3          1         toyota corona\n",
       "4          2       toyota cressida\n",
       "5          0         peugeot 604sl\n",
       "6          0           subaru baja\n",
       "7          3        porsche boxter\n",
       "8         -1           volvo 264gl\n",
       "9          0        toyota corolla"
      ]
     },
     "execution_count": 198,
     "metadata": {},
     "output_type": "execute_result"
    }
   ],
   "source": [
    "df.iloc[:10,:2]"
   ]
  },
  {
   "cell_type": "code",
   "execution_count": 199,
   "id": "695c10c9",
   "metadata": {},
   "outputs": [
    {
     "data": {
      "text/html": [
       "<div>\n",
       "<style scoped>\n",
       "    .dataframe tbody tr th:only-of-type {\n",
       "        vertical-align: middle;\n",
       "    }\n",
       "\n",
       "    .dataframe tbody tr th {\n",
       "        vertical-align: top;\n",
       "    }\n",
       "\n",
       "    .dataframe thead th {\n",
       "        text-align: right;\n",
       "    }\n",
       "</style>\n",
       "<table border=\"1\" class=\"dataframe\">\n",
       "  <thead>\n",
       "    <tr style=\"text-align: right;\">\n",
       "      <th></th>\n",
       "      <th>CarName</th>\n",
       "      <th>fueltype</th>\n",
       "      <th>aspiration</th>\n",
       "    </tr>\n",
       "  </thead>\n",
       "  <tbody>\n",
       "    <tr>\n",
       "      <th>2</th>\n",
       "      <td>mitsubishi outlander</td>\n",
       "      <td>gas</td>\n",
       "      <td>turbo</td>\n",
       "    </tr>\n",
       "    <tr>\n",
       "      <th>3</th>\n",
       "      <td>toyota corona</td>\n",
       "      <td>gas</td>\n",
       "      <td>std</td>\n",
       "    </tr>\n",
       "    <tr>\n",
       "      <th>4</th>\n",
       "      <td>toyota cressida</td>\n",
       "      <td>gas</td>\n",
       "      <td>std</td>\n",
       "    </tr>\n",
       "    <tr>\n",
       "      <th>5</th>\n",
       "      <td>peugeot 604sl</td>\n",
       "      <td>gas</td>\n",
       "      <td>turbo</td>\n",
       "    </tr>\n",
       "    <tr>\n",
       "      <th>6</th>\n",
       "      <td>subaru baja</td>\n",
       "      <td>gas</td>\n",
       "      <td>std</td>\n",
       "    </tr>\n",
       "    <tr>\n",
       "      <th>7</th>\n",
       "      <td>porsche boxter</td>\n",
       "      <td>gas</td>\n",
       "      <td>std</td>\n",
       "    </tr>\n",
       "    <tr>\n",
       "      <th>8</th>\n",
       "      <td>volvo 264gl</td>\n",
       "      <td>gas</td>\n",
       "      <td>turbo</td>\n",
       "    </tr>\n",
       "    <tr>\n",
       "      <th>9</th>\n",
       "      <td>toyota corolla</td>\n",
       "      <td>diesel</td>\n",
       "      <td>std</td>\n",
       "    </tr>\n",
       "  </tbody>\n",
       "</table>\n",
       "</div>"
      ],
      "text/plain": [
       "                CarName fueltype aspiration\n",
       "2  mitsubishi outlander      gas      turbo\n",
       "3         toyota corona      gas        std\n",
       "4       toyota cressida      gas        std\n",
       "5         peugeot 604sl      gas      turbo\n",
       "6           subaru baja      gas        std\n",
       "7        porsche boxter      gas        std\n",
       "8           volvo 264gl      gas      turbo\n",
       "9        toyota corolla   diesel        std"
      ]
     },
     "execution_count": 199,
     "metadata": {},
     "output_type": "execute_result"
    }
   ],
   "source": [
    "df.iloc[2:10,1:4]"
   ]
  },
  {
   "cell_type": "markdown",
   "id": "a7ad3375",
   "metadata": {},
   "source": [
    "### The other apporach is the .loc"
   ]
  },
  {
   "cell_type": "code",
   "execution_count": 200,
   "id": "b96aafd8",
   "metadata": {},
   "outputs": [
    {
     "data": {
      "text/plain": [
       "'peugeot 504'"
      ]
     },
     "execution_count": 200,
     "metadata": {},
     "output_type": "execute_result"
    }
   ],
   "source": [
    "df.loc[1,'CarName']"
   ]
  },
  {
   "cell_type": "code",
   "execution_count": 201,
   "id": "6f02921e",
   "metadata": {},
   "outputs": [
    {
     "data": {
      "text/plain": [
       "0                   audi 100 ls\n",
       "1                   peugeot 504\n",
       "2          mitsubishi outlander\n",
       "3                 toyota corona\n",
       "4               toyota cressida\n",
       "                 ...           \n",
       "148                   jaguar xf\n",
       "149    plymouth fury gran sedan\n",
       "150    volkswagen rabbit custom\n",
       "151              toyota corolla\n",
       "152               mazda rx-7 gs\n",
       "Name: CarName, Length: 153, dtype: object"
      ]
     },
     "execution_count": 201,
     "metadata": {},
     "output_type": "execute_result"
    }
   ],
   "source": [
    "df['CarName']"
   ]
  },
  {
   "cell_type": "code",
   "execution_count": 202,
   "id": "c888b8b0",
   "metadata": {},
   "outputs": [
    {
     "data": {
      "text/plain": [
       "pandas.core.series.Series"
      ]
     },
     "execution_count": 202,
     "metadata": {},
     "output_type": "execute_result"
    }
   ],
   "source": [
    "type(df['CarName'])"
   ]
  },
  {
   "cell_type": "code",
   "execution_count": 203,
   "id": "a7618cc5",
   "metadata": {},
   "outputs": [
    {
     "data": {
      "text/html": [
       "<div>\n",
       "<style scoped>\n",
       "    .dataframe tbody tr th:only-of-type {\n",
       "        vertical-align: middle;\n",
       "    }\n",
       "\n",
       "    .dataframe tbody tr th {\n",
       "        vertical-align: top;\n",
       "    }\n",
       "\n",
       "    .dataframe thead th {\n",
       "        text-align: right;\n",
       "    }\n",
       "</style>\n",
       "<table border=\"1\" class=\"dataframe\">\n",
       "  <thead>\n",
       "    <tr style=\"text-align: right;\">\n",
       "      <th></th>\n",
       "      <th>CarName</th>\n",
       "      <th>fueltype</th>\n",
       "    </tr>\n",
       "  </thead>\n",
       "  <tbody>\n",
       "    <tr>\n",
       "      <th>0</th>\n",
       "      <td>audi 100 ls</td>\n",
       "      <td>gas</td>\n",
       "    </tr>\n",
       "    <tr>\n",
       "      <th>1</th>\n",
       "      <td>peugeot 504</td>\n",
       "      <td>gas</td>\n",
       "    </tr>\n",
       "    <tr>\n",
       "      <th>2</th>\n",
       "      <td>mitsubishi outlander</td>\n",
       "      <td>gas</td>\n",
       "    </tr>\n",
       "    <tr>\n",
       "      <th>3</th>\n",
       "      <td>toyota corona</td>\n",
       "      <td>gas</td>\n",
       "    </tr>\n",
       "    <tr>\n",
       "      <th>4</th>\n",
       "      <td>toyota cressida</td>\n",
       "      <td>gas</td>\n",
       "    </tr>\n",
       "    <tr>\n",
       "      <th>...</th>\n",
       "      <td>...</td>\n",
       "      <td>...</td>\n",
       "    </tr>\n",
       "    <tr>\n",
       "      <th>148</th>\n",
       "      <td>jaguar xf</td>\n",
       "      <td>NaN</td>\n",
       "    </tr>\n",
       "    <tr>\n",
       "      <th>149</th>\n",
       "      <td>plymouth fury gran sedan</td>\n",
       "      <td>gas</td>\n",
       "    </tr>\n",
       "    <tr>\n",
       "      <th>150</th>\n",
       "      <td>volkswagen rabbit custom</td>\n",
       "      <td>diesel</td>\n",
       "    </tr>\n",
       "    <tr>\n",
       "      <th>151</th>\n",
       "      <td>toyota corolla</td>\n",
       "      <td>gas</td>\n",
       "    </tr>\n",
       "    <tr>\n",
       "      <th>152</th>\n",
       "      <td>mazda rx-7 gs</td>\n",
       "      <td>diesel</td>\n",
       "    </tr>\n",
       "  </tbody>\n",
       "</table>\n",
       "<p>153 rows × 2 columns</p>\n",
       "</div>"
      ],
      "text/plain": [
       "                      CarName fueltype\n",
       "0                 audi 100 ls      gas\n",
       "1                 peugeot 504      gas\n",
       "2        mitsubishi outlander      gas\n",
       "3               toyota corona      gas\n",
       "4             toyota cressida      gas\n",
       "..                        ...      ...\n",
       "148                 jaguar xf      NaN\n",
       "149  plymouth fury gran sedan      gas\n",
       "150  volkswagen rabbit custom   diesel\n",
       "151            toyota corolla      gas\n",
       "152             mazda rx-7 gs   diesel\n",
       "\n",
       "[153 rows x 2 columns]"
      ]
     },
     "execution_count": 203,
     "metadata": {},
     "output_type": "execute_result"
    }
   ],
   "source": [
    "df[['CarName','fueltype']]"
   ]
  },
  {
   "cell_type": "code",
   "execution_count": 204,
   "id": "70184bbc",
   "metadata": {},
   "outputs": [
    {
     "data": {
      "text/plain": [
       "pandas.core.frame.DataFrame"
      ]
     },
     "execution_count": 204,
     "metadata": {},
     "output_type": "execute_result"
    }
   ],
   "source": [
    "type(df[['CarName','fueltype']])"
   ]
  },
  {
   "cell_type": "markdown",
   "id": "a2534b54",
   "metadata": {},
   "source": [
    "## How to create plots in Pandas\n",
    "\n",
    "<img src=\"images/plots.png\" alt=\"Picture\" width=\"600\"/>"
   ]
  },
  {
   "cell_type": "code",
   "execution_count": 205,
   "id": "782365af",
   "metadata": {},
   "outputs": [
    {
     "data": {
      "text/plain": [
       "Index(['symboling', 'CarName', 'fueltype', 'aspiration', 'doornumber',\n",
       "       'carbody', 'drivewheel', 'enginelocation', 'wheelbase', 'carlength',\n",
       "       'carwidth', 'carheight', 'curbweight', 'enginetype', 'cylindernumber',\n",
       "       'enginesize', 'fuelsystem', 'boreratio', 'stroke', 'compressionratio',\n",
       "       'horsepower', 'peakrpm', 'citympg', 'highwaympg', 'price'],\n",
       "      dtype='object')"
      ]
     },
     "execution_count": 205,
     "metadata": {},
     "output_type": "execute_result"
    }
   ],
   "source": [
    "df.columns"
   ]
  },
  {
   "cell_type": "code",
   "execution_count": 206,
   "id": "39fe16fc",
   "metadata": {},
   "outputs": [
    {
     "data": {
      "text/plain": [
       "<AxesSubplot:>"
      ]
     },
     "execution_count": 206,
     "metadata": {},
     "output_type": "execute_result"
    },
    {
     "data": {
      "image/png": "[encoded data removed]",
      "text/plain": [
       "<Figure size 432x288 with 1 Axes>"
      ]
     },
     "metadata": {
      "needs_background": "light"
     },
     "output_type": "display_data"
    }
   ],
   "source": [
    "df['carlength'].plot()"
   ]
  },
  {
   "cell_type": "code",
   "execution_count": 207,
   "id": "fbb3e586",
   "metadata": {},
   "outputs": [
    {
     "data": {
      "text/plain": [
       "<AxesSubplot:xlabel='horsepower', ylabel='peakrpm'>"
      ]
     },
     "execution_count": 207,
     "metadata": {},
     "output_type": "execute_result"
    },
    {
     "data": {
      "image/png": "[encoded data removed]",
      "text/plain": [
       "<Figure size 432x288 with 1 Axes>"
      ]
     },
     "metadata": {
      "needs_background": "light"
     },
     "output_type": "display_data"
    }
   ],
   "source": [
    "df.plot.scatter(x=\"horsepower\", y=\"peakrpm\", alpha=0.5)"
   ]
  },
  {
   "cell_type": "code",
   "execution_count": 208,
   "id": "ee26548f",
   "metadata": {},
   "outputs": [
    {
     "data": {
      "text/plain": [
       "<AxesSubplot:>"
      ]
     },
     "execution_count": 208,
     "metadata": {},
     "output_type": "execute_result"
    },
    {
     "data": {
      "image/png": "[encoded data removed]",
      "text/plain": [
       "<Figure size 432x288 with 1 Axes>"
      ]
     },
     "metadata": {
      "needs_background": "light"
     },
     "output_type": "display_data"
    }
   ],
   "source": [
    "df['carheight'].plot.box()"
   ]
  },
  {
   "cell_type": "markdown",
   "id": "8db5cfda",
   "metadata": {},
   "source": [
    "### How to create New columns\n",
    "\n",
    "<img src=\"images/new_column.png\" alt=\"Picture\" width=\"600\"/>\n",
    "\n",
    "Create a new Series/Array and assign to a new column"
   ]
  },
  {
   "cell_type": "code",
   "execution_count": 209,
   "id": "5e35c1a6",
   "metadata": {},
   "outputs": [],
   "source": [
    "# Rough area"
   ]
  },
  {
   "cell_type": "code",
   "execution_count": null,
   "id": "58246950",
   "metadata": {},
   "outputs": [],
   "source": []
  },
  {
   "cell_type": "code",
   "execution_count": null,
   "id": "c591ba51",
   "metadata": {},
   "outputs": [],
   "source": []
  },
  {
   "cell_type": "markdown",
   "id": "b9e1d7a5",
   "metadata": {},
   "source": [
    "### Calculating Summary Statistics\n",
    "- count\n",
    "- min\n",
    "- max\n",
    "- mean \n",
    "\n",
    "<img src=\"images/agg_stat.png\" alt=\"Picture\" width=\"600\"/>\n"
   ]
  },
  {
   "cell_type": "code",
   "execution_count": 210,
   "id": "bf8cd9ff",
   "metadata": {},
   "outputs": [
    {
     "data": {
      "text/plain": [
       "Index(['symboling', 'CarName', 'fueltype', 'aspiration', 'doornumber',\n",
       "       'carbody', 'drivewheel', 'enginelocation', 'wheelbase', 'carlength',\n",
       "       'carwidth', 'carheight', 'curbweight', 'enginetype', 'cylindernumber',\n",
       "       'enginesize', 'fuelsystem', 'boreratio', 'stroke', 'compressionratio',\n",
       "       'horsepower', 'peakrpm', 'citympg', 'highwaympg', 'price'],\n",
       "      dtype='object')"
      ]
     },
     "execution_count": 210,
     "metadata": {},
     "output_type": "execute_result"
    }
   ],
   "source": [
    "df.columns"
   ]
  },
  {
   "cell_type": "code",
   "execution_count": 211,
   "id": "92cf2e97",
   "metadata": {},
   "outputs": [
    {
     "data": {
      "text/plain": [
       "5096.232876712329"
      ]
     },
     "execution_count": 211,
     "metadata": {},
     "output_type": "execute_result"
    }
   ],
   "source": [
    "df['peakrpm'].mean()"
   ]
  },
  {
   "cell_type": "code",
   "execution_count": 212,
   "id": "e195c009",
   "metadata": {},
   "outputs": [
    {
     "data": {
      "text/plain": [
       "5100.0"
      ]
     },
     "execution_count": 212,
     "metadata": {},
     "output_type": "execute_result"
    }
   ],
   "source": [
    "df['peakrpm'].median()"
   ]
  },
  {
   "cell_type": "code",
   "execution_count": 213,
   "id": "8c204e16",
   "metadata": {},
   "outputs": [
    {
     "data": {
      "text/plain": [
       "peakrpm    5100.0\n",
       "citympg      25.0\n",
       "dtype: float64"
      ]
     },
     "execution_count": 213,
     "metadata": {},
     "output_type": "execute_result"
    }
   ],
   "source": [
    "df[['peakrpm','citympg']].median()"
   ]
  },
  {
   "cell_type": "code",
   "execution_count": 214,
   "id": "63ed16bb",
   "metadata": {},
   "outputs": [
    {
     "data": {
      "text/html": [
       "<div>\n",
       "<style scoped>\n",
       "    .dataframe tbody tr th:only-of-type {\n",
       "        vertical-align: middle;\n",
       "    }\n",
       "\n",
       "    .dataframe tbody tr th {\n",
       "        vertical-align: top;\n",
       "    }\n",
       "\n",
       "    .dataframe thead th {\n",
       "        text-align: right;\n",
       "    }\n",
       "</style>\n",
       "<table border=\"1\" class=\"dataframe\">\n",
       "  <thead>\n",
       "    <tr style=\"text-align: right;\">\n",
       "      <th></th>\n",
       "      <th>peakrpm</th>\n",
       "      <th>citympg</th>\n",
       "    </tr>\n",
       "  </thead>\n",
       "  <tbody>\n",
       "    <tr>\n",
       "      <th>count</th>\n",
       "      <td>146.000000</td>\n",
       "      <td>150.000000</td>\n",
       "    </tr>\n",
       "    <tr>\n",
       "      <th>mean</th>\n",
       "      <td>5096.232877</td>\n",
       "      <td>25.360000</td>\n",
       "    </tr>\n",
       "    <tr>\n",
       "      <th>std</th>\n",
       "      <td>456.186804</td>\n",
       "      <td>6.794471</td>\n",
       "    </tr>\n",
       "    <tr>\n",
       "      <th>min</th>\n",
       "      <td>4150.000000</td>\n",
       "      <td>14.000000</td>\n",
       "    </tr>\n",
       "    <tr>\n",
       "      <th>25%</th>\n",
       "      <td>4800.000000</td>\n",
       "      <td>19.000000</td>\n",
       "    </tr>\n",
       "    <tr>\n",
       "      <th>50%</th>\n",
       "      <td>5100.000000</td>\n",
       "      <td>25.000000</td>\n",
       "    </tr>\n",
       "    <tr>\n",
       "      <th>75%</th>\n",
       "      <td>5400.000000</td>\n",
       "      <td>30.000000</td>\n",
       "    </tr>\n",
       "    <tr>\n",
       "      <th>max</th>\n",
       "      <td>6000.000000</td>\n",
       "      <td>49.000000</td>\n",
       "    </tr>\n",
       "  </tbody>\n",
       "</table>\n",
       "</div>"
      ],
      "text/plain": [
       "           peakrpm     citympg\n",
       "count   146.000000  150.000000\n",
       "mean   5096.232877   25.360000\n",
       "std     456.186804    6.794471\n",
       "min    4150.000000   14.000000\n",
       "25%    4800.000000   19.000000\n",
       "50%    5100.000000   25.000000\n",
       "75%    5400.000000   30.000000\n",
       "max    6000.000000   49.000000"
      ]
     },
     "execution_count": 214,
     "metadata": {},
     "output_type": "execute_result"
    }
   ],
   "source": [
    "df[['peakrpm','citympg']].describe()"
   ]
  },
  {
   "cell_type": "markdown",
   "id": "781f1407",
   "metadata": {},
   "source": [
    "<img src=\"images/agg_stat_group.png\" alt=\"Picture\" width=\"600\"/>"
   ]
  },
  {
   "cell_type": "code",
   "execution_count": 215,
   "id": "adacd23f",
   "metadata": {},
   "outputs": [
    {
     "data": {
      "text/html": [
       "<div>\n",
       "<style scoped>\n",
       "    .dataframe tbody tr th:only-of-type {\n",
       "        vertical-align: middle;\n",
       "    }\n",
       "\n",
       "    .dataframe tbody tr th {\n",
       "        vertical-align: top;\n",
       "    }\n",
       "\n",
       "    .dataframe thead th {\n",
       "        text-align: right;\n",
       "    }\n",
       "</style>\n",
       "<table border=\"1\" class=\"dataframe\">\n",
       "  <thead>\n",
       "    <tr style=\"text-align: right;\">\n",
       "      <th></th>\n",
       "      <th>symboling</th>\n",
       "      <th>CarName</th>\n",
       "      <th>fueltype</th>\n",
       "      <th>aspiration</th>\n",
       "      <th>doornumber</th>\n",
       "      <th>carbody</th>\n",
       "      <th>drivewheel</th>\n",
       "      <th>enginelocation</th>\n",
       "      <th>wheelbase</th>\n",
       "      <th>carlength</th>\n",
       "      <th>...</th>\n",
       "      <th>enginesize</th>\n",
       "      <th>fuelsystem</th>\n",
       "      <th>boreratio</th>\n",
       "      <th>stroke</th>\n",
       "      <th>compressionratio</th>\n",
       "      <th>horsepower</th>\n",
       "      <th>peakrpm</th>\n",
       "      <th>citympg</th>\n",
       "      <th>highwaympg</th>\n",
       "      <th>price</th>\n",
       "    </tr>\n",
       "  </thead>\n",
       "  <tbody>\n",
       "    <tr>\n",
       "      <th>0</th>\n",
       "      <td>2</td>\n",
       "      <td>audi 100 ls</td>\n",
       "      <td>gas</td>\n",
       "      <td>std</td>\n",
       "      <td>four</td>\n",
       "      <td>sedan</td>\n",
       "      <td>fwd</td>\n",
       "      <td>front</td>\n",
       "      <td>99.8</td>\n",
       "      <td>176.6</td>\n",
       "      <td>...</td>\n",
       "      <td>109</td>\n",
       "      <td>mpfi</td>\n",
       "      <td>3.19</td>\n",
       "      <td>3.40</td>\n",
       "      <td>10.0</td>\n",
       "      <td>102</td>\n",
       "      <td>5500.0</td>\n",
       "      <td>24.0</td>\n",
       "      <td>30.0</td>\n",
       "      <td>13950.0</td>\n",
       "    </tr>\n",
       "    <tr>\n",
       "      <th>1</th>\n",
       "      <td>0</td>\n",
       "      <td>peugeot 504</td>\n",
       "      <td>gas</td>\n",
       "      <td>std</td>\n",
       "      <td>four</td>\n",
       "      <td>wagon</td>\n",
       "      <td>rwd</td>\n",
       "      <td>front</td>\n",
       "      <td>114.2</td>\n",
       "      <td>198.9</td>\n",
       "      <td>...</td>\n",
       "      <td>120</td>\n",
       "      <td>mpfi</td>\n",
       "      <td>3.46</td>\n",
       "      <td>2.19</td>\n",
       "      <td>8.4</td>\n",
       "      <td>95</td>\n",
       "      <td>5000.0</td>\n",
       "      <td>19.0</td>\n",
       "      <td>24.0</td>\n",
       "      <td>16695.0</td>\n",
       "    </tr>\n",
       "    <tr>\n",
       "      <th>2</th>\n",
       "      <td>3</td>\n",
       "      <td>mitsubishi outlander</td>\n",
       "      <td>gas</td>\n",
       "      <td>turbo</td>\n",
       "      <td>two</td>\n",
       "      <td>hatchback</td>\n",
       "      <td>fwd</td>\n",
       "      <td>front</td>\n",
       "      <td>95.9</td>\n",
       "      <td>173.2</td>\n",
       "      <td>...</td>\n",
       "      <td>156</td>\n",
       "      <td>spdi</td>\n",
       "      <td>3.58</td>\n",
       "      <td>3.86</td>\n",
       "      <td>7.0</td>\n",
       "      <td>145</td>\n",
       "      <td>5000.0</td>\n",
       "      <td>19.0</td>\n",
       "      <td>24.0</td>\n",
       "      <td>12629.0</td>\n",
       "    </tr>\n",
       "    <tr>\n",
       "      <th>3</th>\n",
       "      <td>1</td>\n",
       "      <td>toyota corona</td>\n",
       "      <td>gas</td>\n",
       "      <td>std</td>\n",
       "      <td>two</td>\n",
       "      <td>hatchback</td>\n",
       "      <td>fwd</td>\n",
       "      <td>front</td>\n",
       "      <td>95.7</td>\n",
       "      <td>158.7</td>\n",
       "      <td>...</td>\n",
       "      <td>92</td>\n",
       "      <td>2bbl</td>\n",
       "      <td>3.05</td>\n",
       "      <td>3.03</td>\n",
       "      <td>9.0</td>\n",
       "      <td>62</td>\n",
       "      <td>4800.0</td>\n",
       "      <td>31.0</td>\n",
       "      <td>38.0</td>\n",
       "      <td>6338.0</td>\n",
       "    </tr>\n",
       "    <tr>\n",
       "      <th>4</th>\n",
       "      <td>2</td>\n",
       "      <td>toyota cressida</td>\n",
       "      <td>gas</td>\n",
       "      <td>std</td>\n",
       "      <td>two</td>\n",
       "      <td>convertible</td>\n",
       "      <td>rwd</td>\n",
       "      <td>front</td>\n",
       "      <td>98.4</td>\n",
       "      <td>176.2</td>\n",
       "      <td>...</td>\n",
       "      <td>146</td>\n",
       "      <td>mpfi</td>\n",
       "      <td>3.62</td>\n",
       "      <td>3.50</td>\n",
       "      <td>9.3</td>\n",
       "      <td>116</td>\n",
       "      <td>NaN</td>\n",
       "      <td>24.0</td>\n",
       "      <td>30.0</td>\n",
       "      <td>17669.0</td>\n",
       "    </tr>\n",
       "  </tbody>\n",
       "</table>\n",
       "<p>5 rows × 25 columns</p>\n",
       "</div>"
      ],
      "text/plain": [
       "   symboling               CarName fueltype aspiration doornumber  \\\n",
       "0          2           audi 100 ls      gas        std       four   \n",
       "1          0           peugeot 504      gas        std       four   \n",
       "2          3  mitsubishi outlander      gas      turbo        two   \n",
       "3          1         toyota corona      gas        std        two   \n",
       "4          2       toyota cressida      gas        std        two   \n",
       "\n",
       "       carbody drivewheel enginelocation  wheelbase  carlength  ...  \\\n",
       "0        sedan        fwd          front       99.8      176.6  ...   \n",
       "1        wagon        rwd          front      114.2      198.9  ...   \n",
       "2    hatchback        fwd          front       95.9      173.2  ...   \n",
       "3    hatchback        fwd          front       95.7      158.7  ...   \n",
       "4  convertible        rwd          front       98.4      176.2  ...   \n",
       "\n",
       "   enginesize  fuelsystem  boreratio stroke compressionratio  horsepower  \\\n",
       "0         109        mpfi       3.19   3.40             10.0         102   \n",
       "1         120        mpfi       3.46   2.19              8.4          95   \n",
       "2         156        spdi       3.58   3.86              7.0         145   \n",
       "3          92        2bbl       3.05   3.03              9.0          62   \n",
       "4         146        mpfi       3.62   3.50              9.3         116   \n",
       "\n",
       "  peakrpm  citympg  highwaympg    price  \n",
       "0  5500.0     24.0        30.0  13950.0  \n",
       "1  5000.0     19.0        24.0  16695.0  \n",
       "2  5000.0     19.0        24.0  12629.0  \n",
       "3  4800.0     31.0        38.0   6338.0  \n",
       "4     NaN     24.0        30.0  17669.0  \n",
       "\n",
       "[5 rows x 25 columns]"
      ]
     },
     "execution_count": 215,
     "metadata": {},
     "output_type": "execute_result"
    }
   ],
   "source": [
    "df.head()"
   ]
  },
  {
   "cell_type": "code",
   "execution_count": 216,
   "id": "15a9a83d",
   "metadata": {},
   "outputs": [
    {
     "data": {
      "text/html": [
       "<div>\n",
       "<style scoped>\n",
       "    .dataframe tbody tr th:only-of-type {\n",
       "        vertical-align: middle;\n",
       "    }\n",
       "\n",
       "    .dataframe tbody tr th {\n",
       "        vertical-align: top;\n",
       "    }\n",
       "\n",
       "    .dataframe thead th {\n",
       "        text-align: right;\n",
       "    }\n",
       "</style>\n",
       "<table border=\"1\" class=\"dataframe\">\n",
       "  <thead>\n",
       "    <tr style=\"text-align: right;\">\n",
       "      <th></th>\n",
       "      <th>symboling</th>\n",
       "      <th>wheelbase</th>\n",
       "      <th>carlength</th>\n",
       "      <th>carwidth</th>\n",
       "      <th>carheight</th>\n",
       "      <th>curbweight</th>\n",
       "      <th>enginesize</th>\n",
       "      <th>boreratio</th>\n",
       "      <th>stroke</th>\n",
       "      <th>compressionratio</th>\n",
       "      <th>horsepower</th>\n",
       "      <th>peakrpm</th>\n",
       "      <th>citympg</th>\n",
       "      <th>highwaympg</th>\n",
       "      <th>price</th>\n",
       "    </tr>\n",
       "    <tr>\n",
       "      <th>fueltype</th>\n",
       "      <th></th>\n",
       "      <th></th>\n",
       "      <th></th>\n",
       "      <th></th>\n",
       "      <th></th>\n",
       "      <th></th>\n",
       "      <th></th>\n",
       "      <th></th>\n",
       "      <th></th>\n",
       "      <th></th>\n",
       "      <th></th>\n",
       "      <th></th>\n",
       "      <th></th>\n",
       "      <th></th>\n",
       "      <th></th>\n",
       "    </tr>\n",
       "  </thead>\n",
       "  <tbody>\n",
       "    <tr>\n",
       "      <th>diesel</th>\n",
       "      <td>0.058824</td>\n",
       "      <td>104.011765</td>\n",
       "      <td>180.731250</td>\n",
       "      <td>67.137500</td>\n",
       "      <td>55.693750</td>\n",
       "      <td>2846.588235</td>\n",
       "      <td>132.411765</td>\n",
       "      <td>3.371765</td>\n",
       "      <td>3.461875</td>\n",
       "      <td>21.943750</td>\n",
       "      <td>80.882353</td>\n",
       "      <td>4441.176471</td>\n",
       "      <td>30.437500</td>\n",
       "      <td>35.470588</td>\n",
       "      <td>14558.352941</td>\n",
       "    </tr>\n",
       "    <tr>\n",
       "      <th>gas</th>\n",
       "      <td>0.894737</td>\n",
       "      <td>98.235115</td>\n",
       "      <td>173.462595</td>\n",
       "      <td>65.844615</td>\n",
       "      <td>53.530303</td>\n",
       "      <td>2533.204545</td>\n",
       "      <td>126.368421</td>\n",
       "      <td>3.338015</td>\n",
       "      <td>3.237366</td>\n",
       "      <td>8.833485</td>\n",
       "      <td>105.601504</td>\n",
       "      <td>5192.063492</td>\n",
       "      <td>24.740458</td>\n",
       "      <td>30.392308</td>\n",
       "      <td>13120.911030</td>\n",
       "    </tr>\n",
       "  </tbody>\n",
       "</table>\n",
       "</div>"
      ],
      "text/plain": [
       "          symboling   wheelbase   carlength   carwidth  carheight  \\\n",
       "fueltype                                                            \n",
       "diesel     0.058824  104.011765  180.731250  67.137500  55.693750   \n",
       "gas        0.894737   98.235115  173.462595  65.844615  53.530303   \n",
       "\n",
       "           curbweight  enginesize  boreratio    stroke  compressionratio  \\\n",
       "fueltype                                                                   \n",
       "diesel    2846.588235  132.411765   3.371765  3.461875         21.943750   \n",
       "gas       2533.204545  126.368421   3.338015  3.237366          8.833485   \n",
       "\n",
       "          horsepower      peakrpm    citympg  highwaympg         price  \n",
       "fueltype                                                                \n",
       "diesel     80.882353  4441.176471  30.437500   35.470588  14558.352941  \n",
       "gas       105.601504  5192.063492  24.740458   30.392308  13120.911030  "
      ]
     },
     "execution_count": 216,
     "metadata": {},
     "output_type": "execute_result"
    }
   ],
   "source": [
    "df.groupby('fueltype').mean()"
   ]
  },
  {
   "cell_type": "code",
   "execution_count": 217,
   "id": "3890f055",
   "metadata": {},
   "outputs": [
    {
     "data": {
      "text/plain": [
       "fueltype\n",
       "diesel    104.011765\n",
       "gas        98.235115\n",
       "Name: wheelbase, dtype: float64"
      ]
     },
     "execution_count": 217,
     "metadata": {},
     "output_type": "execute_result"
    }
   ],
   "source": [
    "df.groupby('fueltype')['wheelbase'].mean()"
   ]
  },
  {
   "cell_type": "markdown",
   "id": "36dc170d",
   "metadata": {},
   "source": [
    "<img src=\"images/agg_chain.png\" alt=\"Picture\" width=\"600\"/>"
   ]
  },
  {
   "cell_type": "markdown",
   "id": "155a61c3",
   "metadata": {},
   "source": [
    "### Count By Categories\n",
    "\n",
    "<img src=\"images/count_cat.png\" alt=\"Picture\" width=\"600\"/>"
   ]
  },
  {
   "cell_type": "code",
   "execution_count": 218,
   "id": "dbfe6ad5",
   "metadata": {},
   "outputs": [
    {
     "data": {
      "text/plain": [
       "gas       133\n",
       "diesel     17\n",
       "Name: fueltype, dtype: int64"
      ]
     },
     "execution_count": 218,
     "metadata": {},
     "output_type": "execute_result"
    }
   ],
   "source": [
    "df['fueltype'].value_counts()"
   ]
  },
  {
   "cell_type": "code",
   "execution_count": 219,
   "id": "b5088163",
   "metadata": {},
   "outputs": [
    {
     "data": {
      "text/plain": [
       "<AxesSubplot:ylabel='Density'>"
      ]
     },
     "execution_count": 219,
     "metadata": {},
     "output_type": "execute_result"
    },
    {
     "data": {
      "image/png": "[encoded data removed]",
      "text/plain": [
       "<Figure size 432x288 with 1 Axes>"
      ]
     },
     "metadata": {
      "needs_background": "light"
     },
     "output_type": "display_data"
    }
   ],
   "source": [
    "df['carwidth'].plot.density()"
   ]
  },
  {
   "cell_type": "code",
   "execution_count": 220,
   "id": "4922c3e6",
   "metadata": {},
   "outputs": [
    {
     "name": "stdout",
     "output_type": "stream",
     "text": [
      "<class 'pandas.core.frame.DataFrame'>\n",
      "RangeIndex: 153 entries, 0 to 152\n",
      "Data columns (total 25 columns):\n",
      " #   Column            Non-Null Count  Dtype  \n",
      "---  ------            --------------  -----  \n",
      " 0   symboling         153 non-null    int64  \n",
      " 1   CarName           153 non-null    object \n",
      " 2   fueltype          150 non-null    object \n",
      " 3   aspiration        151 non-null    object \n",
      " 4   doornumber        152 non-null    object \n",
      " 5   carbody           153 non-null    object \n",
      " 6   drivewheel        153 non-null    object \n",
      " 7   enginelocation    142 non-null    object \n",
      " 8   wheelbase         151 non-null    float64\n",
      " 9   carlength         150 non-null    float64\n",
      " 10  carwidth          149 non-null    float64\n",
      " 11  carheight         151 non-null    float64\n",
      " 12  curbweight        152 non-null    float64\n",
      " 13  enginetype        153 non-null    object \n",
      " 14  cylindernumber    152 non-null    object \n",
      " 15  enginesize        153 non-null    int64  \n",
      " 16  fuelsystem        153 non-null    object \n",
      " 17  boreratio         151 non-null    float64\n",
      " 18  stroke            150 non-null    float64\n",
      " 19  compressionratio  151 non-null    float64\n",
      " 20  horsepower        153 non-null    int64  \n",
      " 21  peakrpm           146 non-null    float64\n",
      " 22  citympg           150 non-null    float64\n",
      " 23  highwaympg        150 non-null    float64\n",
      " 24  price             153 non-null    float64\n",
      "dtypes: float64(12), int64(3), object(10)\n",
      "memory usage: 30.0+ KB\n"
     ]
    }
   ],
   "source": [
    "df.info()"
   ]
  },
  {
   "cell_type": "markdown",
   "id": "eed8315f",
   "metadata": {},
   "source": [
    "## df.apply()\n",
    "Apply a function along an axis of the DataFrame.\n",
    "\n",
    "With df.apply(), you can run a function on a column value, 1 cell at a time"
   ]
  },
  {
   "cell_type": "code",
   "execution_count": 221,
   "id": "31f9570b",
   "metadata": {},
   "outputs": [],
   "source": [
    "def add_2(x):\n",
    "    return x+2"
   ]
  },
  {
   "cell_type": "code",
   "execution_count": 222,
   "id": "4e3657a2",
   "metadata": {},
   "outputs": [
    {
     "data": {
      "text/html": [
       "<div>\n",
       "<style scoped>\n",
       "    .dataframe tbody tr th:only-of-type {\n",
       "        vertical-align: middle;\n",
       "    }\n",
       "\n",
       "    .dataframe tbody tr th {\n",
       "        vertical-align: top;\n",
       "    }\n",
       "\n",
       "    .dataframe thead th {\n",
       "        text-align: right;\n",
       "    }\n",
       "</style>\n",
       "<table border=\"1\" class=\"dataframe\">\n",
       "  <thead>\n",
       "    <tr style=\"text-align: right;\">\n",
       "      <th></th>\n",
       "      <th>symboling</th>\n",
       "      <th>CarName</th>\n",
       "      <th>fueltype</th>\n",
       "      <th>aspiration</th>\n",
       "      <th>doornumber</th>\n",
       "      <th>carbody</th>\n",
       "      <th>drivewheel</th>\n",
       "      <th>enginelocation</th>\n",
       "      <th>wheelbase</th>\n",
       "      <th>carlength</th>\n",
       "      <th>...</th>\n",
       "      <th>enginesize</th>\n",
       "      <th>fuelsystem</th>\n",
       "      <th>boreratio</th>\n",
       "      <th>stroke</th>\n",
       "      <th>compressionratio</th>\n",
       "      <th>horsepower</th>\n",
       "      <th>peakrpm</th>\n",
       "      <th>citympg</th>\n",
       "      <th>highwaympg</th>\n",
       "      <th>price</th>\n",
       "    </tr>\n",
       "  </thead>\n",
       "  <tbody>\n",
       "    <tr>\n",
       "      <th>0</th>\n",
       "      <td>2</td>\n",
       "      <td>audi 100 ls</td>\n",
       "      <td>gas</td>\n",
       "      <td>std</td>\n",
       "      <td>four</td>\n",
       "      <td>sedan</td>\n",
       "      <td>fwd</td>\n",
       "      <td>front</td>\n",
       "      <td>99.8</td>\n",
       "      <td>176.6</td>\n",
       "      <td>...</td>\n",
       "      <td>109</td>\n",
       "      <td>mpfi</td>\n",
       "      <td>3.19</td>\n",
       "      <td>3.40</td>\n",
       "      <td>10.0</td>\n",
       "      <td>102</td>\n",
       "      <td>5500.0</td>\n",
       "      <td>24.0</td>\n",
       "      <td>30.0</td>\n",
       "      <td>13950.0</td>\n",
       "    </tr>\n",
       "    <tr>\n",
       "      <th>1</th>\n",
       "      <td>0</td>\n",
       "      <td>peugeot 504</td>\n",
       "      <td>gas</td>\n",
       "      <td>std</td>\n",
       "      <td>four</td>\n",
       "      <td>wagon</td>\n",
       "      <td>rwd</td>\n",
       "      <td>front</td>\n",
       "      <td>114.2</td>\n",
       "      <td>198.9</td>\n",
       "      <td>...</td>\n",
       "      <td>120</td>\n",
       "      <td>mpfi</td>\n",
       "      <td>3.46</td>\n",
       "      <td>2.19</td>\n",
       "      <td>8.4</td>\n",
       "      <td>95</td>\n",
       "      <td>5000.0</td>\n",
       "      <td>19.0</td>\n",
       "      <td>24.0</td>\n",
       "      <td>16695.0</td>\n",
       "    </tr>\n",
       "    <tr>\n",
       "      <th>2</th>\n",
       "      <td>3</td>\n",
       "      <td>mitsubishi outlander</td>\n",
       "      <td>gas</td>\n",
       "      <td>turbo</td>\n",
       "      <td>two</td>\n",
       "      <td>hatchback</td>\n",
       "      <td>fwd</td>\n",
       "      <td>front</td>\n",
       "      <td>95.9</td>\n",
       "      <td>173.2</td>\n",
       "      <td>...</td>\n",
       "      <td>156</td>\n",
       "      <td>spdi</td>\n",
       "      <td>3.58</td>\n",
       "      <td>3.86</td>\n",
       "      <td>7.0</td>\n",
       "      <td>145</td>\n",
       "      <td>5000.0</td>\n",
       "      <td>19.0</td>\n",
       "      <td>24.0</td>\n",
       "      <td>12629.0</td>\n",
       "    </tr>\n",
       "    <tr>\n",
       "      <th>3</th>\n",
       "      <td>1</td>\n",
       "      <td>toyota corona</td>\n",
       "      <td>gas</td>\n",
       "      <td>std</td>\n",
       "      <td>two</td>\n",
       "      <td>hatchback</td>\n",
       "      <td>fwd</td>\n",
       "      <td>front</td>\n",
       "      <td>95.7</td>\n",
       "      <td>158.7</td>\n",
       "      <td>...</td>\n",
       "      <td>92</td>\n",
       "      <td>2bbl</td>\n",
       "      <td>3.05</td>\n",
       "      <td>3.03</td>\n",
       "      <td>9.0</td>\n",
       "      <td>62</td>\n",
       "      <td>4800.0</td>\n",
       "      <td>31.0</td>\n",
       "      <td>38.0</td>\n",
       "      <td>6338.0</td>\n",
       "    </tr>\n",
       "    <tr>\n",
       "      <th>4</th>\n",
       "      <td>2</td>\n",
       "      <td>toyota cressida</td>\n",
       "      <td>gas</td>\n",
       "      <td>std</td>\n",
       "      <td>two</td>\n",
       "      <td>convertible</td>\n",
       "      <td>rwd</td>\n",
       "      <td>front</td>\n",
       "      <td>98.4</td>\n",
       "      <td>176.2</td>\n",
       "      <td>...</td>\n",
       "      <td>146</td>\n",
       "      <td>mpfi</td>\n",
       "      <td>3.62</td>\n",
       "      <td>3.50</td>\n",
       "      <td>9.3</td>\n",
       "      <td>116</td>\n",
       "      <td>NaN</td>\n",
       "      <td>24.0</td>\n",
       "      <td>30.0</td>\n",
       "      <td>17669.0</td>\n",
       "    </tr>\n",
       "  </tbody>\n",
       "</table>\n",
       "<p>5 rows × 25 columns</p>\n",
       "</div>"
      ],
      "text/plain": [
       "   symboling               CarName fueltype aspiration doornumber  \\\n",
       "0          2           audi 100 ls      gas        std       four   \n",
       "1          0           peugeot 504      gas        std       four   \n",
       "2          3  mitsubishi outlander      gas      turbo        two   \n",
       "3          1         toyota corona      gas        std        two   \n",
       "4          2       toyota cressida      gas        std        two   \n",
       "\n",
       "       carbody drivewheel enginelocation  wheelbase  carlength  ...  \\\n",
       "0        sedan        fwd          front       99.8      176.6  ...   \n",
       "1        wagon        rwd          front      114.2      198.9  ...   \n",
       "2    hatchback        fwd          front       95.9      173.2  ...   \n",
       "3    hatchback        fwd          front       95.7      158.7  ...   \n",
       "4  convertible        rwd          front       98.4      176.2  ...   \n",
       "\n",
       "   enginesize  fuelsystem  boreratio stroke compressionratio  horsepower  \\\n",
       "0         109        mpfi       3.19   3.40             10.0         102   \n",
       "1         120        mpfi       3.46   2.19              8.4          95   \n",
       "2         156        spdi       3.58   3.86              7.0         145   \n",
       "3          92        2bbl       3.05   3.03              9.0          62   \n",
       "4         146        mpfi       3.62   3.50              9.3         116   \n",
       "\n",
       "  peakrpm  citympg  highwaympg    price  \n",
       "0  5500.0     24.0        30.0  13950.0  \n",
       "1  5000.0     19.0        24.0  16695.0  \n",
       "2  5000.0     19.0        24.0  12629.0  \n",
       "3  4800.0     31.0        38.0   6338.0  \n",
       "4     NaN     24.0        30.0  17669.0  \n",
       "\n",
       "[5 rows x 25 columns]"
      ]
     },
     "execution_count": 222,
     "metadata": {},
     "output_type": "execute_result"
    }
   ],
   "source": [
    "df.head()"
   ]
  },
  {
   "cell_type": "code",
   "execution_count": 223,
   "id": "f17d6d3d",
   "metadata": {},
   "outputs": [
    {
     "data": {
      "text/plain": [
       "0      32.0\n",
       "1      26.0\n",
       "2      26.0\n",
       "3      40.0\n",
       "4      32.0\n",
       "       ... \n",
       "148    21.0\n",
       "149    40.0\n",
       "150    40.0\n",
       "151    32.0\n",
       "152    41.0\n",
       "Name: highwaympg, Length: 153, dtype: float64"
      ]
     },
     "execution_count": 223,
     "metadata": {},
     "output_type": "execute_result"
    }
   ],
   "source": [
    "df['highwaympg'].apply(add_2)"
   ]
  },
  {
   "cell_type": "markdown",
   "id": "0c531d7f",
   "metadata": {},
   "source": [
    "## Create new column\n",
    "Let's use this new highwaympg to create a new columns in our dataset"
   ]
  },
  {
   "cell_type": "code",
   "execution_count": 224,
   "id": "cd61a81b",
   "metadata": {},
   "outputs": [],
   "source": [
    "df['highwaympg+2'] = df['highwaympg'].apply(add_2)"
   ]
  },
  {
   "cell_type": "code",
   "execution_count": 240,
   "id": "8564626e",
   "metadata": {},
   "outputs": [
    {
     "data": {
      "text/html": [
       "<div>\n",
       "<style scoped>\n",
       "    .dataframe tbody tr th:only-of-type {\n",
       "        vertical-align: middle;\n",
       "    }\n",
       "\n",
       "    .dataframe tbody tr th {\n",
       "        vertical-align: top;\n",
       "    }\n",
       "\n",
       "    .dataframe thead th {\n",
       "        text-align: right;\n",
       "    }\n",
       "</style>\n",
       "<table border=\"1\" class=\"dataframe\">\n",
       "  <thead>\n",
       "    <tr style=\"text-align: right;\">\n",
       "      <th></th>\n",
       "      <th>symboling</th>\n",
       "      <th>CarName</th>\n",
       "      <th>fueltype</th>\n",
       "      <th>aspiration</th>\n",
       "      <th>doornumber</th>\n",
       "      <th>carbody</th>\n",
       "      <th>drivewheel</th>\n",
       "      <th>enginelocation</th>\n",
       "      <th>wheelbase</th>\n",
       "      <th>carlength</th>\n",
       "      <th>...</th>\n",
       "      <th>fuelsystem</th>\n",
       "      <th>boreratio</th>\n",
       "      <th>stroke</th>\n",
       "      <th>compressionratio</th>\n",
       "      <th>horsepower</th>\n",
       "      <th>peakrpm</th>\n",
       "      <th>citympg</th>\n",
       "      <th>highwaympg</th>\n",
       "      <th>price</th>\n",
       "      <th>highwaympg+2</th>\n",
       "    </tr>\n",
       "  </thead>\n",
       "  <tbody>\n",
       "    <tr>\n",
       "      <th>0</th>\n",
       "      <td>2</td>\n",
       "      <td>audi 100 ls</td>\n",
       "      <td>gas</td>\n",
       "      <td>std</td>\n",
       "      <td>four</td>\n",
       "      <td>sedan</td>\n",
       "      <td>fwd</td>\n",
       "      <td>front</td>\n",
       "      <td>99.8</td>\n",
       "      <td>176.6</td>\n",
       "      <td>...</td>\n",
       "      <td>mpfi</td>\n",
       "      <td>3.19</td>\n",
       "      <td>3.40</td>\n",
       "      <td>10.0</td>\n",
       "      <td>102</td>\n",
       "      <td>5500.0</td>\n",
       "      <td>24.0</td>\n",
       "      <td>30.0</td>\n",
       "      <td>13950.0</td>\n",
       "      <td>32.0</td>\n",
       "    </tr>\n",
       "    <tr>\n",
       "      <th>1</th>\n",
       "      <td>0</td>\n",
       "      <td>peugeot 504</td>\n",
       "      <td>gas</td>\n",
       "      <td>std</td>\n",
       "      <td>four</td>\n",
       "      <td>wagon</td>\n",
       "      <td>rwd</td>\n",
       "      <td>front</td>\n",
       "      <td>114.2</td>\n",
       "      <td>198.9</td>\n",
       "      <td>...</td>\n",
       "      <td>mpfi</td>\n",
       "      <td>3.46</td>\n",
       "      <td>2.19</td>\n",
       "      <td>8.4</td>\n",
       "      <td>95</td>\n",
       "      <td>5000.0</td>\n",
       "      <td>19.0</td>\n",
       "      <td>24.0</td>\n",
       "      <td>16695.0</td>\n",
       "      <td>26.0</td>\n",
       "    </tr>\n",
       "    <tr>\n",
       "      <th>2</th>\n",
       "      <td>3</td>\n",
       "      <td>mitsubishi outlander</td>\n",
       "      <td>gas</td>\n",
       "      <td>turbo</td>\n",
       "      <td>two</td>\n",
       "      <td>hatchback</td>\n",
       "      <td>fwd</td>\n",
       "      <td>front</td>\n",
       "      <td>95.9</td>\n",
       "      <td>173.2</td>\n",
       "      <td>...</td>\n",
       "      <td>spdi</td>\n",
       "      <td>3.58</td>\n",
       "      <td>3.86</td>\n",
       "      <td>7.0</td>\n",
       "      <td>145</td>\n",
       "      <td>5000.0</td>\n",
       "      <td>19.0</td>\n",
       "      <td>24.0</td>\n",
       "      <td>12629.0</td>\n",
       "      <td>26.0</td>\n",
       "    </tr>\n",
       "    <tr>\n",
       "      <th>3</th>\n",
       "      <td>1</td>\n",
       "      <td>toyota corona</td>\n",
       "      <td>gas</td>\n",
       "      <td>std</td>\n",
       "      <td>two</td>\n",
       "      <td>hatchback</td>\n",
       "      <td>fwd</td>\n",
       "      <td>front</td>\n",
       "      <td>95.7</td>\n",
       "      <td>158.7</td>\n",
       "      <td>...</td>\n",
       "      <td>2bbl</td>\n",
       "      <td>3.05</td>\n",
       "      <td>3.03</td>\n",
       "      <td>9.0</td>\n",
       "      <td>62</td>\n",
       "      <td>4800.0</td>\n",
       "      <td>31.0</td>\n",
       "      <td>38.0</td>\n",
       "      <td>6338.0</td>\n",
       "      <td>40.0</td>\n",
       "    </tr>\n",
       "    <tr>\n",
       "      <th>4</th>\n",
       "      <td>2</td>\n",
       "      <td>toyota cressida</td>\n",
       "      <td>gas</td>\n",
       "      <td>std</td>\n",
       "      <td>two</td>\n",
       "      <td>convertible</td>\n",
       "      <td>rwd</td>\n",
       "      <td>front</td>\n",
       "      <td>98.4</td>\n",
       "      <td>176.2</td>\n",
       "      <td>...</td>\n",
       "      <td>mpfi</td>\n",
       "      <td>3.62</td>\n",
       "      <td>3.50</td>\n",
       "      <td>9.3</td>\n",
       "      <td>116</td>\n",
       "      <td>NaN</td>\n",
       "      <td>24.0</td>\n",
       "      <td>30.0</td>\n",
       "      <td>17669.0</td>\n",
       "      <td>32.0</td>\n",
       "    </tr>\n",
       "  </tbody>\n",
       "</table>\n",
       "<p>5 rows × 26 columns</p>\n",
       "</div>"
      ],
      "text/plain": [
       "   symboling               CarName fueltype aspiration doornumber  \\\n",
       "0          2           audi 100 ls      gas        std       four   \n",
       "1          0           peugeot 504      gas        std       four   \n",
       "2          3  mitsubishi outlander      gas      turbo        two   \n",
       "3          1         toyota corona      gas        std        two   \n",
       "4          2       toyota cressida      gas        std        two   \n",
       "\n",
       "       carbody drivewheel enginelocation  wheelbase  carlength  ...  \\\n",
       "0        sedan        fwd          front       99.8      176.6  ...   \n",
       "1        wagon        rwd          front      114.2      198.9  ...   \n",
       "2    hatchback        fwd          front       95.9      173.2  ...   \n",
       "3    hatchback        fwd          front       95.7      158.7  ...   \n",
       "4  convertible        rwd          front       98.4      176.2  ...   \n",
       "\n",
       "   fuelsystem  boreratio  stroke compressionratio horsepower  peakrpm citympg  \\\n",
       "0        mpfi       3.19    3.40             10.0        102   5500.0    24.0   \n",
       "1        mpfi       3.46    2.19              8.4         95   5000.0    19.0   \n",
       "2        spdi       3.58    3.86              7.0        145   5000.0    19.0   \n",
       "3        2bbl       3.05    3.03              9.0         62   4800.0    31.0   \n",
       "4        mpfi       3.62    3.50              9.3        116      NaN    24.0   \n",
       "\n",
       "   highwaympg    price  highwaympg+2  \n",
       "0        30.0  13950.0          32.0  \n",
       "1        24.0  16695.0          26.0  \n",
       "2        24.0  12629.0          26.0  \n",
       "3        38.0   6338.0          40.0  \n",
       "4        30.0  17669.0          32.0  \n",
       "\n",
       "[5 rows x 26 columns]"
      ]
     },
     "execution_count": 240,
     "metadata": {},
     "output_type": "execute_result"
    }
   ],
   "source": [
    "df.head()"
   ]
  },
  {
   "cell_type": "markdown",
   "id": "f9622791",
   "metadata": {},
   "source": [
    "## Figuring out NA values"
   ]
  },
  {
   "cell_type": "code",
   "execution_count": 244,
   "id": "6a4e5c4c",
   "metadata": {},
   "outputs": [
    {
     "data": {
      "text/html": [
       "<div>\n",
       "<style scoped>\n",
       "    .dataframe tbody tr th:only-of-type {\n",
       "        vertical-align: middle;\n",
       "    }\n",
       "\n",
       "    .dataframe tbody tr th {\n",
       "        vertical-align: top;\n",
       "    }\n",
       "\n",
       "    .dataframe thead th {\n",
       "        text-align: right;\n",
       "    }\n",
       "</style>\n",
       "<table border=\"1\" class=\"dataframe\">\n",
       "  <thead>\n",
       "    <tr style=\"text-align: right;\">\n",
       "      <th></th>\n",
       "      <th>symboling</th>\n",
       "      <th>CarName</th>\n",
       "      <th>fueltype</th>\n",
       "      <th>aspiration</th>\n",
       "      <th>doornumber</th>\n",
       "      <th>carbody</th>\n",
       "      <th>drivewheel</th>\n",
       "      <th>enginelocation</th>\n",
       "      <th>wheelbase</th>\n",
       "      <th>carlength</th>\n",
       "      <th>...</th>\n",
       "      <th>fuelsystem</th>\n",
       "      <th>boreratio</th>\n",
       "      <th>stroke</th>\n",
       "      <th>compressionratio</th>\n",
       "      <th>horsepower</th>\n",
       "      <th>peakrpm</th>\n",
       "      <th>citympg</th>\n",
       "      <th>highwaympg</th>\n",
       "      <th>price</th>\n",
       "      <th>highwaympg+2</th>\n",
       "    </tr>\n",
       "  </thead>\n",
       "  <tbody>\n",
       "    <tr>\n",
       "      <th>0</th>\n",
       "      <td>False</td>\n",
       "      <td>False</td>\n",
       "      <td>False</td>\n",
       "      <td>False</td>\n",
       "      <td>False</td>\n",
       "      <td>False</td>\n",
       "      <td>False</td>\n",
       "      <td>False</td>\n",
       "      <td>False</td>\n",
       "      <td>False</td>\n",
       "      <td>...</td>\n",
       "      <td>False</td>\n",
       "      <td>False</td>\n",
       "      <td>False</td>\n",
       "      <td>False</td>\n",
       "      <td>False</td>\n",
       "      <td>False</td>\n",
       "      <td>False</td>\n",
       "      <td>False</td>\n",
       "      <td>False</td>\n",
       "      <td>False</td>\n",
       "    </tr>\n",
       "    <tr>\n",
       "      <th>1</th>\n",
       "      <td>False</td>\n",
       "      <td>False</td>\n",
       "      <td>False</td>\n",
       "      <td>False</td>\n",
       "      <td>False</td>\n",
       "      <td>False</td>\n",
       "      <td>False</td>\n",
       "      <td>False</td>\n",
       "      <td>False</td>\n",
       "      <td>False</td>\n",
       "      <td>...</td>\n",
       "      <td>False</td>\n",
       "      <td>False</td>\n",
       "      <td>False</td>\n",
       "      <td>False</td>\n",
       "      <td>False</td>\n",
       "      <td>False</td>\n",
       "      <td>False</td>\n",
       "      <td>False</td>\n",
       "      <td>False</td>\n",
       "      <td>False</td>\n",
       "    </tr>\n",
       "    <tr>\n",
       "      <th>2</th>\n",
       "      <td>False</td>\n",
       "      <td>False</td>\n",
       "      <td>False</td>\n",
       "      <td>False</td>\n",
       "      <td>False</td>\n",
       "      <td>False</td>\n",
       "      <td>False</td>\n",
       "      <td>False</td>\n",
       "      <td>False</td>\n",
       "      <td>False</td>\n",
       "      <td>...</td>\n",
       "      <td>False</td>\n",
       "      <td>False</td>\n",
       "      <td>False</td>\n",
       "      <td>False</td>\n",
       "      <td>False</td>\n",
       "      <td>False</td>\n",
       "      <td>False</td>\n",
       "      <td>False</td>\n",
       "      <td>False</td>\n",
       "      <td>False</td>\n",
       "    </tr>\n",
       "    <tr>\n",
       "      <th>3</th>\n",
       "      <td>False</td>\n",
       "      <td>False</td>\n",
       "      <td>False</td>\n",
       "      <td>False</td>\n",
       "      <td>False</td>\n",
       "      <td>False</td>\n",
       "      <td>False</td>\n",
       "      <td>False</td>\n",
       "      <td>False</td>\n",
       "      <td>False</td>\n",
       "      <td>...</td>\n",
       "      <td>False</td>\n",
       "      <td>False</td>\n",
       "      <td>False</td>\n",
       "      <td>False</td>\n",
       "      <td>False</td>\n",
       "      <td>False</td>\n",
       "      <td>False</td>\n",
       "      <td>False</td>\n",
       "      <td>False</td>\n",
       "      <td>False</td>\n",
       "    </tr>\n",
       "    <tr>\n",
       "      <th>4</th>\n",
       "      <td>False</td>\n",
       "      <td>False</td>\n",
       "      <td>False</td>\n",
       "      <td>False</td>\n",
       "      <td>False</td>\n",
       "      <td>False</td>\n",
       "      <td>False</td>\n",
       "      <td>False</td>\n",
       "      <td>False</td>\n",
       "      <td>False</td>\n",
       "      <td>...</td>\n",
       "      <td>False</td>\n",
       "      <td>False</td>\n",
       "      <td>False</td>\n",
       "      <td>False</td>\n",
       "      <td>False</td>\n",
       "      <td>True</td>\n",
       "      <td>False</td>\n",
       "      <td>False</td>\n",
       "      <td>False</td>\n",
       "      <td>False</td>\n",
       "    </tr>\n",
       "    <tr>\n",
       "      <th>...</th>\n",
       "      <td>...</td>\n",
       "      <td>...</td>\n",
       "      <td>...</td>\n",
       "      <td>...</td>\n",
       "      <td>...</td>\n",
       "      <td>...</td>\n",
       "      <td>...</td>\n",
       "      <td>...</td>\n",
       "      <td>...</td>\n",
       "      <td>...</td>\n",
       "      <td>...</td>\n",
       "      <td>...</td>\n",
       "      <td>...</td>\n",
       "      <td>...</td>\n",
       "      <td>...</td>\n",
       "      <td>...</td>\n",
       "      <td>...</td>\n",
       "      <td>...</td>\n",
       "      <td>...</td>\n",
       "      <td>...</td>\n",
       "      <td>...</td>\n",
       "    </tr>\n",
       "    <tr>\n",
       "      <th>148</th>\n",
       "      <td>False</td>\n",
       "      <td>False</td>\n",
       "      <td>True</td>\n",
       "      <td>False</td>\n",
       "      <td>False</td>\n",
       "      <td>False</td>\n",
       "      <td>False</td>\n",
       "      <td>False</td>\n",
       "      <td>False</td>\n",
       "      <td>False</td>\n",
       "      <td>...</td>\n",
       "      <td>False</td>\n",
       "      <td>False</td>\n",
       "      <td>False</td>\n",
       "      <td>False</td>\n",
       "      <td>False</td>\n",
       "      <td>False</td>\n",
       "      <td>False</td>\n",
       "      <td>False</td>\n",
       "      <td>False</td>\n",
       "      <td>False</td>\n",
       "    </tr>\n",
       "    <tr>\n",
       "      <th>149</th>\n",
       "      <td>False</td>\n",
       "      <td>False</td>\n",
       "      <td>False</td>\n",
       "      <td>False</td>\n",
       "      <td>False</td>\n",
       "      <td>False</td>\n",
       "      <td>False</td>\n",
       "      <td>False</td>\n",
       "      <td>False</td>\n",
       "      <td>False</td>\n",
       "      <td>...</td>\n",
       "      <td>False</td>\n",
       "      <td>False</td>\n",
       "      <td>False</td>\n",
       "      <td>False</td>\n",
       "      <td>False</td>\n",
       "      <td>False</td>\n",
       "      <td>False</td>\n",
       "      <td>False</td>\n",
       "      <td>False</td>\n",
       "      <td>False</td>\n",
       "    </tr>\n",
       "    <tr>\n",
       "      <th>150</th>\n",
       "      <td>False</td>\n",
       "      <td>False</td>\n",
       "      <td>False</td>\n",
       "      <td>False</td>\n",
       "      <td>False</td>\n",
       "      <td>False</td>\n",
       "      <td>False</td>\n",
       "      <td>False</td>\n",
       "      <td>False</td>\n",
       "      <td>False</td>\n",
       "      <td>...</td>\n",
       "      <td>False</td>\n",
       "      <td>False</td>\n",
       "      <td>False</td>\n",
       "      <td>False</td>\n",
       "      <td>False</td>\n",
       "      <td>False</td>\n",
       "      <td>False</td>\n",
       "      <td>False</td>\n",
       "      <td>False</td>\n",
       "      <td>False</td>\n",
       "    </tr>\n",
       "    <tr>\n",
       "      <th>151</th>\n",
       "      <td>False</td>\n",
       "      <td>False</td>\n",
       "      <td>False</td>\n",
       "      <td>False</td>\n",
       "      <td>False</td>\n",
       "      <td>False</td>\n",
       "      <td>False</td>\n",
       "      <td>False</td>\n",
       "      <td>False</td>\n",
       "      <td>False</td>\n",
       "      <td>...</td>\n",
       "      <td>False</td>\n",
       "      <td>False</td>\n",
       "      <td>False</td>\n",
       "      <td>False</td>\n",
       "      <td>False</td>\n",
       "      <td>False</td>\n",
       "      <td>False</td>\n",
       "      <td>False</td>\n",
       "      <td>False</td>\n",
       "      <td>False</td>\n",
       "    </tr>\n",
       "    <tr>\n",
       "      <th>152</th>\n",
       "      <td>False</td>\n",
       "      <td>False</td>\n",
       "      <td>False</td>\n",
       "      <td>False</td>\n",
       "      <td>False</td>\n",
       "      <td>False</td>\n",
       "      <td>False</td>\n",
       "      <td>False</td>\n",
       "      <td>False</td>\n",
       "      <td>False</td>\n",
       "      <td>...</td>\n",
       "      <td>False</td>\n",
       "      <td>False</td>\n",
       "      <td>False</td>\n",
       "      <td>False</td>\n",
       "      <td>False</td>\n",
       "      <td>False</td>\n",
       "      <td>False</td>\n",
       "      <td>False</td>\n",
       "      <td>False</td>\n",
       "      <td>False</td>\n",
       "    </tr>\n",
       "  </tbody>\n",
       "</table>\n",
       "<p>153 rows × 26 columns</p>\n",
       "</div>"
      ],
      "text/plain": [
       "     symboling  CarName  fueltype  aspiration  doornumber  carbody  \\\n",
       "0        False    False     False       False       False    False   \n",
       "1        False    False     False       False       False    False   \n",
       "2        False    False     False       False       False    False   \n",
       "3        False    False     False       False       False    False   \n",
       "4        False    False     False       False       False    False   \n",
       "..         ...      ...       ...         ...         ...      ...   \n",
       "148      False    False      True       False       False    False   \n",
       "149      False    False     False       False       False    False   \n",
       "150      False    False     False       False       False    False   \n",
       "151      False    False     False       False       False    False   \n",
       "152      False    False     False       False       False    False   \n",
       "\n",
       "     drivewheel  enginelocation  wheelbase  carlength  ...  fuelsystem  \\\n",
       "0         False           False      False      False  ...       False   \n",
       "1         False           False      False      False  ...       False   \n",
       "2         False           False      False      False  ...       False   \n",
       "3         False           False      False      False  ...       False   \n",
       "4         False           False      False      False  ...       False   \n",
       "..          ...             ...        ...        ...  ...         ...   \n",
       "148       False           False      False      False  ...       False   \n",
       "149       False           False      False      False  ...       False   \n",
       "150       False           False      False      False  ...       False   \n",
       "151       False           False      False      False  ...       False   \n",
       "152       False           False      False      False  ...       False   \n",
       "\n",
       "     boreratio  stroke  compressionratio  horsepower  peakrpm  citympg  \\\n",
       "0        False   False             False       False    False    False   \n",
       "1        False   False             False       False    False    False   \n",
       "2        False   False             False       False    False    False   \n",
       "3        False   False             False       False    False    False   \n",
       "4        False   False             False       False     True    False   \n",
       "..         ...     ...               ...         ...      ...      ...   \n",
       "148      False   False             False       False    False    False   \n",
       "149      False   False             False       False    False    False   \n",
       "150      False   False             False       False    False    False   \n",
       "151      False   False             False       False    False    False   \n",
       "152      False   False             False       False    False    False   \n",
       "\n",
       "     highwaympg  price  highwaympg+2  \n",
       "0         False  False         False  \n",
       "1         False  False         False  \n",
       "2         False  False         False  \n",
       "3         False  False         False  \n",
       "4         False  False         False  \n",
       "..          ...    ...           ...  \n",
       "148       False  False         False  \n",
       "149       False  False         False  \n",
       "150       False  False         False  \n",
       "151       False  False         False  \n",
       "152       False  False         False  \n",
       "\n",
       "[153 rows x 26 columns]"
      ]
     },
     "execution_count": 244,
     "metadata": {},
     "output_type": "execute_result"
    }
   ],
   "source": [
    "df.isna()"
   ]
  },
  {
   "cell_type": "code",
   "execution_count": 245,
   "id": "bfc91514",
   "metadata": {},
   "outputs": [
    {
     "data": {
      "text/plain": [
       "symboling            0\n",
       "CarName              0\n",
       "fueltype             3\n",
       "aspiration           2\n",
       "doornumber           1\n",
       "carbody              0\n",
       "drivewheel           0\n",
       "enginelocation      11\n",
       "wheelbase            2\n",
       "carlength            3\n",
       "carwidth             4\n",
       "carheight            2\n",
       "curbweight           1\n",
       "enginetype           0\n",
       "cylindernumber       1\n",
       "enginesize           0\n",
       "fuelsystem           0\n",
       "boreratio            2\n",
       "stroke               3\n",
       "compressionratio     2\n",
       "horsepower           0\n",
       "peakrpm              7\n",
       "citympg              3\n",
       "highwaympg           3\n",
       "price                0\n",
       "highwaympg+2         3\n",
       "dtype: int64"
      ]
     },
     "execution_count": 245,
     "metadata": {},
     "output_type": "execute_result"
    }
   ],
   "source": [
    "df.isna().sum()"
   ]
  },
  {
   "cell_type": "code",
   "execution_count": 249,
   "id": "34c537f9",
   "metadata": {},
   "outputs": [
    {
     "data": {
      "text/plain": [
       "0      0\n",
       "1      0\n",
       "2      0\n",
       "3      0\n",
       "4      1\n",
       "      ..\n",
       "148    1\n",
       "149    0\n",
       "150    1\n",
       "151    0\n",
       "152    0\n",
       "Length: 153, dtype: int64"
      ]
     },
     "execution_count": 249,
     "metadata": {},
     "output_type": "execute_result"
    }
   ],
   "source": [
    "df.isna().sum(axis=1)"
   ]
  },
  {
   "cell_type": "code",
   "execution_count": 250,
   "id": "1b707e6f",
   "metadata": {},
   "outputs": [
    {
     "data": {
      "text/plain": [
       "<AxesSubplot:>"
      ]
     },
     "execution_count": 250,
     "metadata": {},
     "output_type": "execute_result"
    },
    {
     "data": {
      "image/png": "[encoded data removed]",
      "text/plain": [
       "<Figure size 432x288 with 1 Axes>"
      ]
     },
     "metadata": {
      "needs_background": "light"
     },
     "output_type": "display_data"
    }
   ],
   "source": [
    "df.isna().sum().plot()"
   ]
  },
  {
   "cell_type": "code",
   "execution_count": 251,
   "id": "5d96ad95",
   "metadata": {},
   "outputs": [
    {
     "data": {
      "text/plain": [
       "<AxesSubplot:>"
      ]
     },
     "execution_count": 251,
     "metadata": {},
     "output_type": "execute_result"
    },
    {
     "data": {
      "image/png": "[encoded data removed]",
      "text/plain": [
       "<Figure size 432x288 with 1 Axes>"
      ]
     },
     "metadata": {
      "needs_background": "light"
     },
     "output_type": "display_data"
    }
   ],
   "source": [
    "df.isna().sum(axis=0).plot(kind='bar')"
   ]
  },
  {
   "cell_type": "code",
   "execution_count": 254,
   "id": "e1325cbf",
   "metadata": {},
   "outputs": [
    {
     "name": "stderr",
     "output_type": "stream",
     "text": [
      "/Users/siddharthkothotya/anaconda3/lib/python3.7/site-packages/ipykernel_launcher.py:1: FutureWarning: Dropping of nuisance columns in DataFrame reductions (with 'numeric_only=None') is deprecated; in a future version this will raise TypeError.  Select only valid columns before calling the reduction.\n",
      "  \"\"\"Entry point for launching an IPython kernel.\n"
     ]
    },
    {
     "data": {
      "text/plain": [
       "symboling           1.587547e+00\n",
       "wheelbase           4.076811e+01\n",
       "carlength           1.682662e+02\n",
       "carwidth            4.317361e+00\n",
       "carheight           6.218995e+00\n",
       "curbweight          2.931042e+05\n",
       "enginesize          1.765283e+03\n",
       "boreratio           7.119719e-02\n",
       "stroke              9.621658e-02\n",
       "compressionratio    1.689720e+01\n",
       "horsepower          1.440270e+03\n",
       "peakrpm             2.081064e+05\n",
       "citympg             4.616483e+01\n",
       "highwaympg          5.269638e+01\n",
       "price               6.893247e+07\n",
       "highwaympg+2        5.269638e+01\n",
       "dtype: float64"
      ]
     },
     "execution_count": 254,
     "metadata": {},
     "output_type": "execute_result"
    }
   ],
   "source": [
    "df.var()"
   ]
  },
  {
   "cell_type": "code",
   "execution_count": 256,
   "id": "1fe1f50e",
   "metadata": {},
   "outputs": [
    {
     "data": {
      "text/html": [
       "<div>\n",
       "<style scoped>\n",
       "    .dataframe tbody tr th:only-of-type {\n",
       "        vertical-align: middle;\n",
       "    }\n",
       "\n",
       "    .dataframe tbody tr th {\n",
       "        vertical-align: top;\n",
       "    }\n",
       "\n",
       "    .dataframe thead th {\n",
       "        text-align: right;\n",
       "    }\n",
       "</style>\n",
       "<table border=\"1\" class=\"dataframe\">\n",
       "  <thead>\n",
       "    <tr style=\"text-align: right;\">\n",
       "      <th></th>\n",
       "      <th>symboling</th>\n",
       "      <th>CarName</th>\n",
       "      <th>fueltype</th>\n",
       "      <th>aspiration</th>\n",
       "      <th>doornumber</th>\n",
       "      <th>carbody</th>\n",
       "      <th>drivewheel</th>\n",
       "      <th>enginelocation</th>\n",
       "      <th>wheelbase</th>\n",
       "      <th>carlength</th>\n",
       "      <th>...</th>\n",
       "      <th>fuelsystem</th>\n",
       "      <th>boreratio</th>\n",
       "      <th>stroke</th>\n",
       "      <th>compressionratio</th>\n",
       "      <th>horsepower</th>\n",
       "      <th>peakrpm</th>\n",
       "      <th>citympg</th>\n",
       "      <th>highwaympg</th>\n",
       "      <th>price</th>\n",
       "      <th>highwaympg+2</th>\n",
       "    </tr>\n",
       "  </thead>\n",
       "  <tbody>\n",
       "    <tr>\n",
       "      <th>0</th>\n",
       "      <td>2</td>\n",
       "      <td>audi 100 ls</td>\n",
       "      <td>gas</td>\n",
       "      <td>std</td>\n",
       "      <td>four</td>\n",
       "      <td>sedan</td>\n",
       "      <td>fwd</td>\n",
       "      <td>front</td>\n",
       "      <td>99.8</td>\n",
       "      <td>176.6</td>\n",
       "      <td>...</td>\n",
       "      <td>mpfi</td>\n",
       "      <td>3.19</td>\n",
       "      <td>3.40</td>\n",
       "      <td>10.0</td>\n",
       "      <td>102</td>\n",
       "      <td>5500.0</td>\n",
       "      <td>24.0</td>\n",
       "      <td>30.0</td>\n",
       "      <td>13950.0</td>\n",
       "      <td>32.0</td>\n",
       "    </tr>\n",
       "    <tr>\n",
       "      <th>1</th>\n",
       "      <td>0</td>\n",
       "      <td>peugeot 504</td>\n",
       "      <td>gas</td>\n",
       "      <td>std</td>\n",
       "      <td>four</td>\n",
       "      <td>wagon</td>\n",
       "      <td>rwd</td>\n",
       "      <td>front</td>\n",
       "      <td>114.2</td>\n",
       "      <td>198.9</td>\n",
       "      <td>...</td>\n",
       "      <td>mpfi</td>\n",
       "      <td>3.46</td>\n",
       "      <td>2.19</td>\n",
       "      <td>8.4</td>\n",
       "      <td>95</td>\n",
       "      <td>5000.0</td>\n",
       "      <td>19.0</td>\n",
       "      <td>24.0</td>\n",
       "      <td>16695.0</td>\n",
       "      <td>26.0</td>\n",
       "    </tr>\n",
       "    <tr>\n",
       "      <th>2</th>\n",
       "      <td>3</td>\n",
       "      <td>mitsubishi outlander</td>\n",
       "      <td>gas</td>\n",
       "      <td>turbo</td>\n",
       "      <td>two</td>\n",
       "      <td>hatchback</td>\n",
       "      <td>fwd</td>\n",
       "      <td>front</td>\n",
       "      <td>95.9</td>\n",
       "      <td>173.2</td>\n",
       "      <td>...</td>\n",
       "      <td>spdi</td>\n",
       "      <td>3.58</td>\n",
       "      <td>3.86</td>\n",
       "      <td>7.0</td>\n",
       "      <td>145</td>\n",
       "      <td>5000.0</td>\n",
       "      <td>19.0</td>\n",
       "      <td>24.0</td>\n",
       "      <td>12629.0</td>\n",
       "      <td>26.0</td>\n",
       "    </tr>\n",
       "    <tr>\n",
       "      <th>3</th>\n",
       "      <td>1</td>\n",
       "      <td>toyota corona</td>\n",
       "      <td>gas</td>\n",
       "      <td>std</td>\n",
       "      <td>two</td>\n",
       "      <td>hatchback</td>\n",
       "      <td>fwd</td>\n",
       "      <td>front</td>\n",
       "      <td>95.7</td>\n",
       "      <td>158.7</td>\n",
       "      <td>...</td>\n",
       "      <td>2bbl</td>\n",
       "      <td>3.05</td>\n",
       "      <td>3.03</td>\n",
       "      <td>9.0</td>\n",
       "      <td>62</td>\n",
       "      <td>4800.0</td>\n",
       "      <td>31.0</td>\n",
       "      <td>38.0</td>\n",
       "      <td>6338.0</td>\n",
       "      <td>40.0</td>\n",
       "    </tr>\n",
       "    <tr>\n",
       "      <th>4</th>\n",
       "      <td>2</td>\n",
       "      <td>toyota cressida</td>\n",
       "      <td>gas</td>\n",
       "      <td>std</td>\n",
       "      <td>two</td>\n",
       "      <td>convertible</td>\n",
       "      <td>rwd</td>\n",
       "      <td>front</td>\n",
       "      <td>98.4</td>\n",
       "      <td>176.2</td>\n",
       "      <td>...</td>\n",
       "      <td>mpfi</td>\n",
       "      <td>3.62</td>\n",
       "      <td>3.50</td>\n",
       "      <td>9.3</td>\n",
       "      <td>116</td>\n",
       "      <td>NaN</td>\n",
       "      <td>24.0</td>\n",
       "      <td>30.0</td>\n",
       "      <td>17669.0</td>\n",
       "      <td>32.0</td>\n",
       "    </tr>\n",
       "    <tr>\n",
       "      <th>...</th>\n",
       "      <td>...</td>\n",
       "      <td>...</td>\n",
       "      <td>...</td>\n",
       "      <td>...</td>\n",
       "      <td>...</td>\n",
       "      <td>...</td>\n",
       "      <td>...</td>\n",
       "      <td>...</td>\n",
       "      <td>...</td>\n",
       "      <td>...</td>\n",
       "      <td>...</td>\n",
       "      <td>...</td>\n",
       "      <td>...</td>\n",
       "      <td>...</td>\n",
       "      <td>...</td>\n",
       "      <td>...</td>\n",
       "      <td>...</td>\n",
       "      <td>...</td>\n",
       "      <td>...</td>\n",
       "      <td>...</td>\n",
       "      <td>...</td>\n",
       "    </tr>\n",
       "    <tr>\n",
       "      <th>148</th>\n",
       "      <td>0</td>\n",
       "      <td>jaguar xf</td>\n",
       "      <td>NaN</td>\n",
       "      <td>std</td>\n",
       "      <td>four</td>\n",
       "      <td>sedan</td>\n",
       "      <td>rwd</td>\n",
       "      <td>front</td>\n",
       "      <td>113.0</td>\n",
       "      <td>199.6</td>\n",
       "      <td>...</td>\n",
       "      <td>mpfi</td>\n",
       "      <td>3.63</td>\n",
       "      <td>4.17</td>\n",
       "      <td>8.1</td>\n",
       "      <td>176</td>\n",
       "      <td>4750.0</td>\n",
       "      <td>15.0</td>\n",
       "      <td>19.0</td>\n",
       "      <td>35550.0</td>\n",
       "      <td>21.0</td>\n",
       "    </tr>\n",
       "    <tr>\n",
       "      <th>149</th>\n",
       "      <td>1</td>\n",
       "      <td>plymouth fury gran sedan</td>\n",
       "      <td>gas</td>\n",
       "      <td>std</td>\n",
       "      <td>four</td>\n",
       "      <td>sedan</td>\n",
       "      <td>fwd</td>\n",
       "      <td>front</td>\n",
       "      <td>93.7</td>\n",
       "      <td>167.3</td>\n",
       "      <td>...</td>\n",
       "      <td>2bbl</td>\n",
       "      <td>2.97</td>\n",
       "      <td>3.23</td>\n",
       "      <td>9.4</td>\n",
       "      <td>68</td>\n",
       "      <td>5500.0</td>\n",
       "      <td>31.0</td>\n",
       "      <td>38.0</td>\n",
       "      <td>7609.0</td>\n",
       "      <td>40.0</td>\n",
       "    </tr>\n",
       "    <tr>\n",
       "      <th>150</th>\n",
       "      <td>0</td>\n",
       "      <td>volkswagen rabbit custom</td>\n",
       "      <td>diesel</td>\n",
       "      <td>turbo</td>\n",
       "      <td>four</td>\n",
       "      <td>sedan</td>\n",
       "      <td>fwd</td>\n",
       "      <td>front</td>\n",
       "      <td>100.4</td>\n",
       "      <td>180.2</td>\n",
       "      <td>...</td>\n",
       "      <td>idi</td>\n",
       "      <td>3.01</td>\n",
       "      <td>3.40</td>\n",
       "      <td>23.0</td>\n",
       "      <td>68</td>\n",
       "      <td>4500.0</td>\n",
       "      <td>33.0</td>\n",
       "      <td>38.0</td>\n",
       "      <td>13845.0</td>\n",
       "      <td>40.0</td>\n",
       "    </tr>\n",
       "    <tr>\n",
       "      <th>151</th>\n",
       "      <td>2</td>\n",
       "      <td>toyota corolla</td>\n",
       "      <td>gas</td>\n",
       "      <td>std</td>\n",
       "      <td>two</td>\n",
       "      <td>hatchback</td>\n",
       "      <td>rwd</td>\n",
       "      <td>front</td>\n",
       "      <td>98.4</td>\n",
       "      <td>176.2</td>\n",
       "      <td>...</td>\n",
       "      <td>mpfi</td>\n",
       "      <td>3.62</td>\n",
       "      <td>3.50</td>\n",
       "      <td>9.3</td>\n",
       "      <td>116</td>\n",
       "      <td>4800.0</td>\n",
       "      <td>24.0</td>\n",
       "      <td>30.0</td>\n",
       "      <td>11549.0</td>\n",
       "      <td>32.0</td>\n",
       "    </tr>\n",
       "    <tr>\n",
       "      <th>152</th>\n",
       "      <td>0</td>\n",
       "      <td>mazda rx-7 gs</td>\n",
       "      <td>diesel</td>\n",
       "      <td>std</td>\n",
       "      <td>four</td>\n",
       "      <td>sedan</td>\n",
       "      <td>rwd</td>\n",
       "      <td>front</td>\n",
       "      <td>104.9</td>\n",
       "      <td>175.0</td>\n",
       "      <td>...</td>\n",
       "      <td>idi</td>\n",
       "      <td>3.43</td>\n",
       "      <td>3.64</td>\n",
       "      <td>22.0</td>\n",
       "      <td>72</td>\n",
       "      <td>4200.0</td>\n",
       "      <td>31.0</td>\n",
       "      <td>39.0</td>\n",
       "      <td>18344.0</td>\n",
       "      <td>41.0</td>\n",
       "    </tr>\n",
       "  </tbody>\n",
       "</table>\n",
       "<p>153 rows × 26 columns</p>\n",
       "</div>"
      ],
      "text/plain": [
       "     symboling                   CarName fueltype aspiration doornumber  \\\n",
       "0            2               audi 100 ls      gas        std       four   \n",
       "1            0               peugeot 504      gas        std       four   \n",
       "2            3      mitsubishi outlander      gas      turbo        two   \n",
       "3            1             toyota corona      gas        std        two   \n",
       "4            2           toyota cressida      gas        std        two   \n",
       "..         ...                       ...      ...        ...        ...   \n",
       "148          0                 jaguar xf      NaN        std       four   \n",
       "149          1  plymouth fury gran sedan      gas        std       four   \n",
       "150          0  volkswagen rabbit custom   diesel      turbo       four   \n",
       "151          2            toyota corolla      gas        std        two   \n",
       "152          0             mazda rx-7 gs   diesel        std       four   \n",
       "\n",
       "         carbody drivewheel enginelocation  wheelbase  carlength  ...  \\\n",
       "0          sedan        fwd          front       99.8      176.6  ...   \n",
       "1          wagon        rwd          front      114.2      198.9  ...   \n",
       "2      hatchback        fwd          front       95.9      173.2  ...   \n",
       "3      hatchback        fwd          front       95.7      158.7  ...   \n",
       "4    convertible        rwd          front       98.4      176.2  ...   \n",
       "..           ...        ...            ...        ...        ...  ...   \n",
       "148        sedan        rwd          front      113.0      199.6  ...   \n",
       "149        sedan        fwd          front       93.7      167.3  ...   \n",
       "150        sedan        fwd          front      100.4      180.2  ...   \n",
       "151    hatchback        rwd          front       98.4      176.2  ...   \n",
       "152        sedan        rwd          front      104.9      175.0  ...   \n",
       "\n",
       "     fuelsystem  boreratio  stroke compressionratio horsepower  peakrpm  \\\n",
       "0          mpfi       3.19    3.40             10.0        102   5500.0   \n",
       "1          mpfi       3.46    2.19              8.4         95   5000.0   \n",
       "2          spdi       3.58    3.86              7.0        145   5000.0   \n",
       "3          2bbl       3.05    3.03              9.0         62   4800.0   \n",
       "4          mpfi       3.62    3.50              9.3        116      NaN   \n",
       "..          ...        ...     ...              ...        ...      ...   \n",
       "148        mpfi       3.63    4.17              8.1        176   4750.0   \n",
       "149        2bbl       2.97    3.23              9.4         68   5500.0   \n",
       "150         idi       3.01    3.40             23.0         68   4500.0   \n",
       "151        mpfi       3.62    3.50              9.3        116   4800.0   \n",
       "152         idi       3.43    3.64             22.0         72   4200.0   \n",
       "\n",
       "    citympg  highwaympg    price  highwaympg+2  \n",
       "0      24.0        30.0  13950.0          32.0  \n",
       "1      19.0        24.0  16695.0          26.0  \n",
       "2      19.0        24.0  12629.0          26.0  \n",
       "3      31.0        38.0   6338.0          40.0  \n",
       "4      24.0        30.0  17669.0          32.0  \n",
       "..      ...         ...      ...           ...  \n",
       "148    15.0        19.0  35550.0          21.0  \n",
       "149    31.0        38.0   7609.0          40.0  \n",
       "150    33.0        38.0  13845.0          40.0  \n",
       "151    24.0        30.0  11549.0          32.0  \n",
       "152    31.0        39.0  18344.0          41.0  \n",
       "\n",
       "[153 rows x 26 columns]"
      ]
     },
     "execution_count": 256,
     "metadata": {},
     "output_type": "execute_result"
    }
   ],
   "source": [
    "df"
   ]
  },
  {
   "cell_type": "code",
   "execution_count": 257,
   "id": "6caea5fd",
   "metadata": {},
   "outputs": [
    {
     "data": {
      "text/plain": [
       "<AxesSubplot:ylabel='Density'>"
      ]
     },
     "execution_count": 257,
     "metadata": {},
     "output_type": "execute_result"
    },
    {
     "data": {
      "image/png": "[encoded data removed]",
      "text/plain": [
       "<Figure size 432x288 with 1 Axes>"
      ]
     },
     "metadata": {
      "needs_background": "light"
     },
     "output_type": "display_data"
    }
   ],
   "source": [
    "df['stroke'].plot.density()"
   ]
  },
  {
   "cell_type": "code",
   "execution_count": null,
   "id": "da46228d",
   "metadata": {},
   "outputs": [],
   "source": []
  },
  {
   "cell_type": "code",
   "execution_count": null,
   "id": "a35de40b",
   "metadata": {},
   "outputs": [],
   "source": []
  },
  {
   "cell_type": "code",
   "execution_count": null,
   "id": "2c3677fc",
   "metadata": {},
   "outputs": [],
   "source": []
  },
  {
   "cell_type": "code",
   "execution_count": null,
   "id": "bd9a340a",
   "metadata": {},
   "outputs": [],
   "source": []
  }
 ],
 "metadata": {
  "kernelspec": {
   "display_name": "Python 3 (ipykernel)",
   "language": "python",
   "name": "python3"
  },
  "language_info": {
   "codemirror_mode": {
    "name": "ipython",
    "version": 3
   },
   "file_extension": ".py",
   "mimetype": "text/x-python",
   "name": "python",
   "nbconvert_exporter": "python",
   "pygments_lexer": "ipython3",
   "version": "3.7.11"
  }
 },
 "nbformat": 4,
 "nbformat_minor": 5
}
